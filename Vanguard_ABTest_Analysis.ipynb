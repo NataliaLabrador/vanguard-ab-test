{
 "cells": [
  {
   "cell_type": "code",
   "execution_count": 65,
   "metadata": {},
   "outputs": [],
   "source": [
    "# Import necessary libraries\n",
    "import pandas as pd\n",
    "import matplotlib.pyplot as plt\n",
    "import seaborn as sns\n",
    "import numpy as np\n",
    "import statsmodels.api as sm\n",
    "from scipy.stats import ttest_ind\n",
    "from scipy.stats import chi2_contingency\n",
    "from datetime import datetime, timedelta\n",
    "\n",
    "%matplotlib inline"
   ]
  },
  {
   "cell_type": "markdown",
   "metadata": {},
   "source": [
    "## CLIENT PROFILES DF"
   ]
  },
  {
   "cell_type": "code",
   "execution_count": 3,
   "metadata": {},
   "outputs": [],
   "source": [
    "# Read Client Profiles dataset\n",
    "archivo_clients = \"/Users/natalialabrador/Desktop/Ironhack/Proyectos/5. EDA + Tableau/client_profiles_df.csv\"\n",
    "client_profiles_df = pd.read_csv(archivo_clients)"
   ]
  },
  {
   "cell_type": "code",
   "execution_count": 4,
   "metadata": {},
   "outputs": [
    {
     "data": {
      "text/html": [
       "<div>\n",
       "<style scoped>\n",
       "    .dataframe tbody tr th:only-of-type {\n",
       "        vertical-align: middle;\n",
       "    }\n",
       "\n",
       "    .dataframe tbody tr th {\n",
       "        vertical-align: top;\n",
       "    }\n",
       "\n",
       "    .dataframe thead th {\n",
       "        text-align: right;\n",
       "    }\n",
       "</style>\n",
       "<table border=\"1\" class=\"dataframe\">\n",
       "  <thead>\n",
       "    <tr style=\"text-align: right;\">\n",
       "      <th></th>\n",
       "      <th>client_id</th>\n",
       "      <th>clnt_tenure_yr</th>\n",
       "      <th>clnt_tenure_mnth</th>\n",
       "      <th>clnt_age</th>\n",
       "      <th>gender</th>\n",
       "      <th>num_accts</th>\n",
       "      <th>bal</th>\n",
       "      <th>calls_6_mnth</th>\n",
       "      <th>logons_6_mnth</th>\n",
       "    </tr>\n",
       "  </thead>\n",
       "  <tbody>\n",
       "    <tr>\n",
       "      <th>0</th>\n",
       "      <td>836976</td>\n",
       "      <td>6.0</td>\n",
       "      <td>73.0</td>\n",
       "      <td>60.5</td>\n",
       "      <td>unknown</td>\n",
       "      <td>2.0</td>\n",
       "      <td>45105.30</td>\n",
       "      <td>6.0</td>\n",
       "      <td>9.0</td>\n",
       "    </tr>\n",
       "    <tr>\n",
       "      <th>1</th>\n",
       "      <td>2304905</td>\n",
       "      <td>7.0</td>\n",
       "      <td>94.0</td>\n",
       "      <td>58.0</td>\n",
       "      <td>unknown</td>\n",
       "      <td>2.0</td>\n",
       "      <td>110860.30</td>\n",
       "      <td>6.0</td>\n",
       "      <td>9.0</td>\n",
       "    </tr>\n",
       "    <tr>\n",
       "      <th>2</th>\n",
       "      <td>1439522</td>\n",
       "      <td>5.0</td>\n",
       "      <td>64.0</td>\n",
       "      <td>32.0</td>\n",
       "      <td>unknown</td>\n",
       "      <td>2.0</td>\n",
       "      <td>52467.79</td>\n",
       "      <td>6.0</td>\n",
       "      <td>9.0</td>\n",
       "    </tr>\n",
       "    <tr>\n",
       "      <th>3</th>\n",
       "      <td>1562045</td>\n",
       "      <td>16.0</td>\n",
       "      <td>198.0</td>\n",
       "      <td>49.0</td>\n",
       "      <td>male</td>\n",
       "      <td>2.0</td>\n",
       "      <td>67454.65</td>\n",
       "      <td>3.0</td>\n",
       "      <td>6.0</td>\n",
       "    </tr>\n",
       "    <tr>\n",
       "      <th>4</th>\n",
       "      <td>5126305</td>\n",
       "      <td>12.0</td>\n",
       "      <td>145.0</td>\n",
       "      <td>33.0</td>\n",
       "      <td>female</td>\n",
       "      <td>2.0</td>\n",
       "      <td>103671.75</td>\n",
       "      <td>0.0</td>\n",
       "      <td>3.0</td>\n",
       "    </tr>\n",
       "  </tbody>\n",
       "</table>\n",
       "</div>"
      ],
      "text/plain": [
       "   client_id  clnt_tenure_yr  clnt_tenure_mnth  clnt_age   gender  num_accts  \\\n",
       "0     836976             6.0              73.0      60.5  unknown        2.0   \n",
       "1    2304905             7.0              94.0      58.0  unknown        2.0   \n",
       "2    1439522             5.0              64.0      32.0  unknown        2.0   \n",
       "3    1562045            16.0             198.0      49.0     male        2.0   \n",
       "4    5126305            12.0             145.0      33.0   female        2.0   \n",
       "\n",
       "         bal  calls_6_mnth  logons_6_mnth  \n",
       "0   45105.30           6.0            9.0  \n",
       "1  110860.30           6.0            9.0  \n",
       "2   52467.79           6.0            9.0  \n",
       "3   67454.65           3.0            6.0  \n",
       "4  103671.75           0.0            3.0  "
      ]
     },
     "execution_count": 4,
     "metadata": {},
     "output_type": "execute_result"
    }
   ],
   "source": [
    "# Show first rows of the dataframe\n",
    "client_profiles_df.head()"
   ]
  },
  {
   "cell_type": "markdown",
   "metadata": {},
   "source": [
    "## Univariate Analysis"
   ]
  },
  {
   "cell_type": "markdown",
   "metadata": {},
   "source": [
    "### Categorical Variables "
   ]
  },
  {
   "cell_type": "markdown",
   "metadata": {},
   "source": [
    "gender column"
   ]
  },
  {
   "cell_type": "code",
   "execution_count": 5,
   "metadata": {},
   "outputs": [
    {
     "data": {
      "text/html": [
       "<div>\n",
       "<style scoped>\n",
       "    .dataframe tbody tr th:only-of-type {\n",
       "        vertical-align: middle;\n",
       "    }\n",
       "\n",
       "    .dataframe tbody tr th {\n",
       "        vertical-align: top;\n",
       "    }\n",
       "\n",
       "    .dataframe thead th {\n",
       "        text-align: right;\n",
       "    }\n",
       "</style>\n",
       "<table border=\"1\" class=\"dataframe\">\n",
       "  <thead>\n",
       "    <tr style=\"text-align: right;\">\n",
       "      <th>col_0</th>\n",
       "      <th>count</th>\n",
       "    </tr>\n",
       "    <tr>\n",
       "      <th>gender</th>\n",
       "      <th></th>\n",
       "    </tr>\n",
       "  </thead>\n",
       "  <tbody>\n",
       "    <tr>\n",
       "      <th>female</th>\n",
       "      <td>22746</td>\n",
       "    </tr>\n",
       "    <tr>\n",
       "      <th>male</th>\n",
       "      <td>23724</td>\n",
       "    </tr>\n",
       "    <tr>\n",
       "      <th>unknown</th>\n",
       "      <td>24139</td>\n",
       "    </tr>\n",
       "  </tbody>\n",
       "</table>\n",
       "</div>"
      ],
      "text/plain": [
       "col_0    count\n",
       "gender        \n",
       "female   22746\n",
       "male     23724\n",
       "unknown  24139"
      ]
     },
     "execution_count": 5,
     "metadata": {},
     "output_type": "execute_result"
    }
   ],
   "source": [
    "# Creating a crosstab table for the 'gender' column, counting occurrences for each unique value\n",
    "gender_table = pd.crosstab(index = client_profiles_df[\"gender\"], columns=\"count\")     \n",
    "gender_table"
   ]
  },
  {
   "cell_type": "code",
   "execution_count": 6,
   "metadata": {},
   "outputs": [
    {
     "data": {
      "image/png": "[encoded data removed]",
      "text/plain": [
       "<Figure size 640x480 with 1 Axes>"
      ]
     },
     "metadata": {},
     "output_type": "display_data"
    }
   ],
   "source": [
    "# Create a bar chart with 'gender' column\n",
    "sns.barplot(x=gender_table.index, y=gender_table[\"count\"], palette=\"Set3\");"
   ]
  },
  {
   "cell_type": "code",
   "execution_count": 7,
   "metadata": {},
   "outputs": [
    {
     "data": {
      "text/plain": [
       "<Axes: ylabel='count'>"
      ]
     },
     "execution_count": 7,
     "metadata": {},
     "output_type": "execute_result"
    },
    {
     "data": {
      "image/png": "[encoded data removed]",
      "text/plain": [
       "<Figure size 640x480 with 1 Axes>"
      ]
     },
     "metadata": {},
     "output_type": "display_data"
    }
   ],
   "source": [
    "# Create a pie chart with 'gender' column\n",
    "client_profiles_df['gender'].value_counts().plot.pie(autopct='%1.1f%%', startangle=90, colors=sns.color_palette(\"Set3\"))\n"
   ]
  },
  {
   "cell_type": "markdown",
   "metadata": {},
   "source": [
    "### Numerical Variables "
   ]
  },
  {
   "cell_type": "code",
   "execution_count": 8,
   "metadata": {},
   "outputs": [
    {
     "data": {
      "text/html": [
       "<div>\n",
       "<style scoped>\n",
       "    .dataframe tbody tr th:only-of-type {\n",
       "        vertical-align: middle;\n",
       "    }\n",
       "\n",
       "    .dataframe tbody tr th {\n",
       "        vertical-align: top;\n",
       "    }\n",
       "\n",
       "    .dataframe thead th {\n",
       "        text-align: right;\n",
       "    }\n",
       "</style>\n",
       "<table border=\"1\" class=\"dataframe\">\n",
       "  <thead>\n",
       "    <tr style=\"text-align: right;\">\n",
       "      <th></th>\n",
       "      <th>client_id</th>\n",
       "      <th>clnt_tenure_yr</th>\n",
       "      <th>clnt_tenure_mnth</th>\n",
       "      <th>clnt_age</th>\n",
       "      <th>num_accts</th>\n",
       "      <th>bal</th>\n",
       "      <th>calls_6_mnth</th>\n",
       "      <th>logons_6_mnth</th>\n",
       "    </tr>\n",
       "  </thead>\n",
       "  <tbody>\n",
       "    <tr>\n",
       "      <th>count</th>\n",
       "      <td>7.060900e+04</td>\n",
       "      <td>70609.000000</td>\n",
       "      <td>70609.000000</td>\n",
       "      <td>70609.000000</td>\n",
       "      <td>70609.000000</td>\n",
       "      <td>7.060900e+04</td>\n",
       "      <td>70609.000000</td>\n",
       "      <td>70609.000000</td>\n",
       "    </tr>\n",
       "    <tr>\n",
       "      <th>mean</th>\n",
       "      <td>5.004992e+06</td>\n",
       "      <td>12.052950</td>\n",
       "      <td>150.631885</td>\n",
       "      <td>46.442359</td>\n",
       "      <td>2.255528</td>\n",
       "      <td>1.474452e+05</td>\n",
       "      <td>3.382478</td>\n",
       "      <td>5.566740</td>\n",
       "    </tr>\n",
       "    <tr>\n",
       "      <th>std</th>\n",
       "      <td>2.877278e+06</td>\n",
       "      <td>6.871137</td>\n",
       "      <td>82.104912</td>\n",
       "      <td>15.589619</td>\n",
       "      <td>0.534944</td>\n",
       "      <td>3.014788e+05</td>\n",
       "      <td>2.236358</td>\n",
       "      <td>2.353052</td>\n",
       "    </tr>\n",
       "    <tr>\n",
       "      <th>min</th>\n",
       "      <td>1.690000e+02</td>\n",
       "      <td>2.000000</td>\n",
       "      <td>12.052950</td>\n",
       "      <td>13.500000</td>\n",
       "      <td>1.000000</td>\n",
       "      <td>1.378942e+04</td>\n",
       "      <td>0.000000</td>\n",
       "      <td>1.000000</td>\n",
       "    </tr>\n",
       "    <tr>\n",
       "      <th>25%</th>\n",
       "      <td>2.519329e+06</td>\n",
       "      <td>6.000000</td>\n",
       "      <td>82.000000</td>\n",
       "      <td>32.500000</td>\n",
       "      <td>2.000000</td>\n",
       "      <td>3.735012e+04</td>\n",
       "      <td>1.000000</td>\n",
       "      <td>4.000000</td>\n",
       "    </tr>\n",
       "    <tr>\n",
       "      <th>50%</th>\n",
       "      <td>5.016978e+06</td>\n",
       "      <td>11.000000</td>\n",
       "      <td>136.000000</td>\n",
       "      <td>47.000000</td>\n",
       "      <td>2.000000</td>\n",
       "      <td>6.334555e+04</td>\n",
       "      <td>3.000000</td>\n",
       "      <td>5.000000</td>\n",
       "    </tr>\n",
       "    <tr>\n",
       "      <th>75%</th>\n",
       "      <td>7.483085e+06</td>\n",
       "      <td>16.000000</td>\n",
       "      <td>192.000000</td>\n",
       "      <td>59.000000</td>\n",
       "      <td>2.000000</td>\n",
       "      <td>1.376355e+05</td>\n",
       "      <td>6.000000</td>\n",
       "      <td>7.000000</td>\n",
       "    </tr>\n",
       "    <tr>\n",
       "      <th>max</th>\n",
       "      <td>9.999839e+06</td>\n",
       "      <td>62.000000</td>\n",
       "      <td>749.000000</td>\n",
       "      <td>96.000000</td>\n",
       "      <td>8.000000</td>\n",
       "      <td>1.632004e+07</td>\n",
       "      <td>7.000000</td>\n",
       "      <td>9.000000</td>\n",
       "    </tr>\n",
       "  </tbody>\n",
       "</table>\n",
       "</div>"
      ],
      "text/plain": [
       "          client_id  clnt_tenure_yr  clnt_tenure_mnth      clnt_age  \\\n",
       "count  7.060900e+04    70609.000000      70609.000000  70609.000000   \n",
       "mean   5.004992e+06       12.052950        150.631885     46.442359   \n",
       "std    2.877278e+06        6.871137         82.104912     15.589619   \n",
       "min    1.690000e+02        2.000000         12.052950     13.500000   \n",
       "25%    2.519329e+06        6.000000         82.000000     32.500000   \n",
       "50%    5.016978e+06       11.000000        136.000000     47.000000   \n",
       "75%    7.483085e+06       16.000000        192.000000     59.000000   \n",
       "max    9.999839e+06       62.000000        749.000000     96.000000   \n",
       "\n",
       "          num_accts           bal  calls_6_mnth  logons_6_mnth  \n",
       "count  70609.000000  7.060900e+04  70609.000000   70609.000000  \n",
       "mean       2.255528  1.474452e+05      3.382478       5.566740  \n",
       "std        0.534944  3.014788e+05      2.236358       2.353052  \n",
       "min        1.000000  1.378942e+04      0.000000       1.000000  \n",
       "25%        2.000000  3.735012e+04      1.000000       4.000000  \n",
       "50%        2.000000  6.334555e+04      3.000000       5.000000  \n",
       "75%        2.000000  1.376355e+05      6.000000       7.000000  \n",
       "max        8.000000  1.632004e+07      7.000000       9.000000  "
      ]
     },
     "execution_count": 8,
     "metadata": {},
     "output_type": "execute_result"
    }
   ],
   "source": [
    "# Show basic descriptive analysis for numerical variables\n",
    "client_profiles_df.describe()"
   ]
  },
  {
   "cell_type": "markdown",
   "metadata": {},
   "source": [
    "clnt_age column"
   ]
  },
  {
   "cell_type": "code",
   "execution_count": 9,
   "metadata": {},
   "outputs": [
    {
     "name": "stdout",
     "output_type": "stream",
     "text": [
      "The average age of clients is: 46.44235862283845\n",
      "The standard deviation of clients age is: 15.58961851757077\n",
      "The minimun age of clients is: 13.5\n",
      "The maximum age of clients is: 96.0\n",
      "The range age of clients is: 82.5\n",
      "The IQR of clients age is: 26.5\n"
     ]
    }
   ],
   "source": [
    "# Check statistics of clients age\n",
    "average_age = client_profiles_df['clnt_age'].mean()\n",
    "std_dev_age = client_profiles_df['clnt_age'].std()\n",
    "range_age = client_profiles_df['clnt_age'].max() - client_profiles_df['clnt_age'].min()\n",
    "min_age = client_profiles_df['clnt_age'].min()\n",
    "max_age = client_profiles_df['clnt_age'].max()\n",
    "iqr_age = client_profiles_df['clnt_age'].quantile(0.75) - client_profiles_df['clnt_age'].quantile(0.25)\n",
    "print(f\"The average age of clients is: {average_age}\")\n",
    "print(f\"The standard deviation of clients age is: {std_dev_age}\")\n",
    "print(f\"The minimun age of clients is: {min_age}\")\n",
    "print(f\"The maximum age of clients is: {max_age}\")\n",
    "print(f\"The range age of clients is: {range_age}\")\n",
    "print(f\"The IQR of clients age is: {iqr_age}\")\n"
   ]
  },
  {
   "cell_type": "code",
   "execution_count": 10,
   "metadata": {},
   "outputs": [
    {
     "data": {
      "text/plain": [
       "<Axes: xlabel='clnt_age', ylabel='Count'>"
      ]
     },
     "execution_count": 10,
     "metadata": {},
     "output_type": "execute_result"
    },
    {
     "data": {
      "image/png": "[encoded data removed]",
      "text/plain": [
       "<Figure size 640x480 with 1 Axes>"
      ]
     },
     "metadata": {},
     "output_type": "display_data"
    }
   ],
   "source": [
    "# Create a histoplot for age of clients\n",
    "sns.histplot(client_profiles_df['clnt_age'], kde=True, bins=30, color=\"salmon\")"
   ]
  },
  {
   "cell_type": "code",
   "execution_count": 11,
   "metadata": {},
   "outputs": [
    {
     "data": {
      "text/plain": [
       "<Axes: >"
      ]
     },
     "execution_count": 11,
     "metadata": {},
     "output_type": "execute_result"
    },
    {
     "data": {
      "image/png": "[encoded data removed]",
      "text/plain": [
       "<Figure size 640x480 with 1 Axes>"
      ]
     },
     "metadata": {},
     "output_type": "display_data"
    }
   ],
   "source": [
    "# Create a box plot for age of clients\n",
    "sns.boxplot(data = client_profiles_df['clnt_age'], color=\"lightblue\")"
   ]
  },
  {
   "cell_type": "markdown",
   "metadata": {},
   "source": [
    "clnt_tenure_yr column"
   ]
  },
  {
   "cell_type": "code",
   "execution_count": 12,
   "metadata": {},
   "outputs": [
    {
     "name": "stdout",
     "output_type": "stream",
     "text": [
      "The average number of years spent in Vanguard is: 12.052949925632127\n",
      "The standard deviation of number of years spent in Vanguard is: 6.871137207862344\n",
      "The minimun number of years spent in Vanguard is: 2.0\n",
      "The maximum number of years spent in Vanguard is: 62.0\n",
      "The range of number of years spent in Vanguard is: 60.0\n",
      "The IQR of years spent in Vanguard is: 10.0\n"
     ]
    }
   ],
   "source": [
    "# Check statistics of years spent in Vanguard\n",
    "average_years = client_profiles_df['clnt_tenure_yr'].mean()\n",
    "std_dev_years = client_profiles_df['clnt_tenure_yr'].std()\n",
    "range_years = client_profiles_df['clnt_tenure_yr'].max() - client_profiles_df['clnt_tenure_yr'].min()\n",
    "min_years = client_profiles_df['clnt_tenure_yr'].min()\n",
    "max_years = client_profiles_df['clnt_tenure_yr'].max()\n",
    "iqr_years = client_profiles_df['clnt_tenure_yr'].quantile(0.75) - client_profiles_df['clnt_tenure_yr'].quantile(0.25)\n",
    "print(f\"The average number of years spent in Vanguard is: {average_years}\")\n",
    "print(f\"The standard deviation of number of years spent in Vanguard is: {std_dev_years}\")\n",
    "print(f\"The minimun number of years spent in Vanguard is: {min_years}\")\n",
    "print(f\"The maximum number of years spent in Vanguard is: {max_years}\")\n",
    "print(f\"The range of number of years spent in Vanguard is: {range_years}\")\n",
    "print(f\"The IQR of years spent in Vanguard is: {iqr_years}\")"
   ]
  },
  {
   "cell_type": "code",
   "execution_count": 13,
   "metadata": {},
   "outputs": [
    {
     "data": {
      "text/plain": [
       "<Axes: xlabel='clnt_tenure_yr', ylabel='Count'>"
      ]
     },
     "execution_count": 13,
     "metadata": {},
     "output_type": "execute_result"
    },
    {
     "data": {
      "image/png": "[encoded data removed]",
      "text/plain": [
       "<Figure size 640x480 with 1 Axes>"
      ]
     },
     "metadata": {},
     "output_type": "display_data"
    }
   ],
   "source": [
    "# Create a histoplot for years spent in Vanguard\n",
    "sns.histplot(client_profiles_df['clnt_tenure_yr'], kde=True, bins=30, color=\"salmon\")"
   ]
  },
  {
   "cell_type": "code",
   "execution_count": 14,
   "metadata": {},
   "outputs": [
    {
     "data": {
      "text/plain": [
       "<Axes: >"
      ]
     },
     "execution_count": 14,
     "metadata": {},
     "output_type": "execute_result"
    },
    {
     "data": {
      "image/png": "[encoded data removed]",
      "text/plain": [
       "<Figure size 640x480 with 1 Axes>"
      ]
     },
     "metadata": {},
     "output_type": "display_data"
    }
   ],
   "source": [
    "# Create a box plot for years spent in Vanguard\n",
    "sns.boxplot(data = client_profiles_df['clnt_tenure_yr'], color=\"lightblue\")"
   ]
  },
  {
   "cell_type": "code",
   "execution_count": 15,
   "metadata": {},
   "outputs": [
    {
     "name": "stdout",
     "output_type": "stream",
     "text": [
      "Clients that have spent more years with Vanguard are: 64690    62.0\n",
      "63034    55.0\n",
      "50644    55.0\n",
      "12871    55.0\n",
      "22168    55.0\n",
      "68183    55.0\n",
      "30335    55.0\n",
      "11329    55.0\n",
      "23857    55.0\n",
      "56608    55.0\n",
      "Name: clnt_tenure_yr, dtype: float64\n"
     ]
    }
   ],
   "source": [
    "top_clients_years = client_profiles_df['clnt_tenure_yr'].sort_values(ascending=False).head(10)\n",
    "print (f\"Clients that have spent more years with Vanguard are: {top_clients_years}\")"
   ]
  },
  {
   "cell_type": "markdown",
   "metadata": {},
   "source": [
    "clnt_tenure_mnth column"
   ]
  },
  {
   "cell_type": "code",
   "execution_count": 16,
   "metadata": {},
   "outputs": [
    {
     "name": "stdout",
     "output_type": "stream",
     "text": [
      "The average number of months spent in Vanguard is: 150.63188462234217\n",
      "The standard deviation of number of months spent in Vanguard is: 82.10491173382033\n",
      "The minimun number of months spent in Vanguard is: 12.052949925632127\n",
      "The maximum number of months spent in Vanguard is: 749.0\n",
      "The range of number of months spent in Vanguard is: 736.9470500743679\n",
      "The IQR of months spent in Vanguard is: 110.0\n"
     ]
    }
   ],
   "source": [
    "# Check statistics of months spent in Vanguard\n",
    "average_months = client_profiles_df['clnt_tenure_mnth'].mean()\n",
    "std_dev_months = client_profiles_df['clnt_tenure_mnth'].std()\n",
    "range_months = client_profiles_df['clnt_tenure_mnth'].max() - client_profiles_df['clnt_tenure_mnth'].min()\n",
    "min_months = client_profiles_df['clnt_tenure_mnth'].min()\n",
    "max_months = client_profiles_df['clnt_tenure_mnth'].max()\n",
    "iqr_months = client_profiles_df['clnt_tenure_mnth'].quantile(0.75) - client_profiles_df['clnt_tenure_mnth'].quantile(0.25)\n",
    "print(f\"The average number of months spent in Vanguard is: {average_months}\")\n",
    "print(f\"The standard deviation of number of months spent in Vanguard is: {std_dev_months}\")\n",
    "print(f\"The minimun number of months spent in Vanguard is: {min_months}\")\n",
    "print(f\"The maximum number of months spent in Vanguard is: {max_months}\")\n",
    "print(f\"The range of number of months spent in Vanguard is: {range_months}\")\n",
    "print(f\"The IQR of months spent in Vanguard is: {iqr_months}\")"
   ]
  },
  {
   "cell_type": "code",
   "execution_count": 17,
   "metadata": {},
   "outputs": [
    {
     "data": {
      "text/plain": [
       "<Axes: xlabel='clnt_tenure_mnth', ylabel='Count'>"
      ]
     },
     "execution_count": 17,
     "metadata": {},
     "output_type": "execute_result"
    },
    {
     "data": {
      "image/png": "[encoded data removed]",
      "text/plain": [
       "<Figure size 640x480 with 1 Axes>"
      ]
     },
     "metadata": {},
     "output_type": "display_data"
    }
   ],
   "source": [
    "# Create a histoplot for months spent in Vanguard\n",
    "sns.histplot(client_profiles_df['clnt_tenure_mnth'], kde=True, bins=30, color=\"salmon\")"
   ]
  },
  {
   "cell_type": "code",
   "execution_count": 18,
   "metadata": {},
   "outputs": [
    {
     "data": {
      "text/plain": [
       "<Axes: >"
      ]
     },
     "execution_count": 18,
     "metadata": {},
     "output_type": "execute_result"
    },
    {
     "data": {
      "image/png": "[encoded data removed]",
      "text/plain": [
       "<Figure size 640x480 with 1 Axes>"
      ]
     },
     "metadata": {},
     "output_type": "display_data"
    }
   ],
   "source": [
    "# Create a box plot for months spent in Vanguard\n",
    "sns.boxplot(data = client_profiles_df['clnt_tenure_mnth'], color=\"lightblue\")"
   ]
  },
  {
   "cell_type": "markdown",
   "metadata": {},
   "source": [
    "num_accts column"
   ]
  },
  {
   "cell_type": "code",
   "execution_count": 19,
   "metadata": {},
   "outputs": [
    {
     "name": "stdout",
     "output_type": "stream",
     "text": [
      "The average number of accounts clients hold with Vanguard is: 2.255528011898859\n",
      "The standard deviation of number of accounts clients hold with Vanguard is: 0.5349438147179678\n",
      "The minimun number of accounts clients hold with Vanguard is: 1.0\n",
      "The maximum number of accounts clients hold with Vanguard is: 8.0\n",
      "The range number of accounts clients hold with Vanguard is: 7.0\n",
      "The IQR of accounts clients hold with Vanguard is: 0.0\n"
     ]
    }
   ],
   "source": [
    "# Check statistics of number of accounts in Vanguard\n",
    "average_accounts = client_profiles_df['num_accts'].mean()\n",
    "std_dev_accounts = client_profiles_df['num_accts'].std()\n",
    "range_accounts = client_profiles_df['num_accts'].max() - client_profiles_df['num_accts'].min()\n",
    "min_accounts = client_profiles_df['num_accts'].min()\n",
    "max_accounts = client_profiles_df['num_accts'].max()\n",
    "iqr_accounts = client_profiles_df['num_accts'].quantile(0.75) - client_profiles_df['num_accts'].quantile(0.25)\n",
    "print(f\"The average number of accounts clients hold with Vanguard is: {average_accounts}\")\n",
    "print(f\"The standard deviation of number of accounts clients hold with Vanguard is: {std_dev_accounts}\")\n",
    "print(f\"The minimun number of accounts clients hold with Vanguard is: {min_accounts}\")\n",
    "print(f\"The maximum number of accounts clients hold with Vanguard is: {max_accounts}\")\n",
    "print(f\"The range number of accounts clients hold with Vanguard is: {range_accounts}\")\n",
    "print(f\"The IQR of accounts clients hold with Vanguard is: {iqr_accounts}\")"
   ]
  },
  {
   "cell_type": "code",
   "execution_count": 20,
   "metadata": {},
   "outputs": [
    {
     "data": {
      "text/plain": [
       "<Axes: xlabel='num_accts', ylabel='Count'>"
      ]
     },
     "execution_count": 20,
     "metadata": {},
     "output_type": "execute_result"
    },
    {
     "data": {
      "image/png": "[encoded data removed]",
      "text/plain": [
       "<Figure size 640x480 with 1 Axes>"
      ]
     },
     "metadata": {},
     "output_type": "display_data"
    }
   ],
   "source": [
    "# Create a histoplot for number of accounts in Vanguard\n",
    "sns.histplot(client_profiles_df['num_accts'], kde=True, bins=30, color=\"salmon\")"
   ]
  },
  {
   "cell_type": "markdown",
   "metadata": {},
   "source": [
    "bal column"
   ]
  },
  {
   "cell_type": "code",
   "execution_count": 21,
   "metadata": {},
   "outputs": [
    {
     "name": "stdout",
     "output_type": "stream",
     "text": [
      "The average number of total balance spread across all accounts for a particular client is: 147445.2406414052\n",
      "The standard deviation of total balance spread across all accounts for a particular client is: 301478.8138052144\n",
      "The minimun number of total balance spread across all accounts for a particular client is: 13789.419999999998\n",
      "The maximum number of total balance spread across all accounts for a particular client is: 16320040.15\n",
      "The range number of total balance spread across all accounts for a particular client is: 16306250.73\n",
      "The IQR of total balance spread across all accounts for a particular client is: 100285.40000000002\n"
     ]
    }
   ],
   "source": [
    "# Check statistics of total balance spread across all accounts for a particular client (bal)\n",
    "average_bal = client_profiles_df['bal'].mean()\n",
    "std_dev_bal = client_profiles_df['bal'].std()\n",
    "range_bal = client_profiles_df['bal'].max() - client_profiles_df['bal'].min()\n",
    "min_bal = client_profiles_df['bal'].min()\n",
    "max_bal = client_profiles_df['bal'].max()\n",
    "iqr_bal = client_profiles_df['bal'].quantile(0.75) - client_profiles_df['bal'].quantile(0.25)\n",
    "print(f\"The average number of total balance spread across all accounts for a particular client is: {average_bal}\")\n",
    "print(f\"The standard deviation of total balance spread across all accounts for a particular client is: {std_dev_bal}\")\n",
    "print(f\"The minimun number of total balance spread across all accounts for a particular client is: {min_bal}\")\n",
    "print(f\"The maximum number of total balance spread across all accounts for a particular client is: {max_bal}\")\n",
    "print(f\"The range number of total balance spread across all accounts for a particular client is: {range_bal}\")\n",
    "print(f\"The IQR of total balance spread across all accounts for a particular client is: {iqr_bal}\")"
   ]
  },
  {
   "cell_type": "markdown",
   "metadata": {},
   "source": [
    "calls_6_mnth column"
   ]
  },
  {
   "cell_type": "code",
   "execution_count": 22,
   "metadata": {},
   "outputs": [
    {
     "name": "stdout",
     "output_type": "stream",
     "text": [
      "The average number of the number of times the client reached out over a call in the past six months is: 3.3824775125717115\n",
      "The standard deviation of the number of times the client reached out over a call in the past six months is: 2.2363584393542517\n",
      "The minimun number of the number of times the client reached out over a call in the past six months is: 0.0\n",
      "The maximum number of the number of times the client reached out over a call in the past six months is: 7.0\n",
      "The range number of the number of times the client reached out over a call in the past six months is: 7.0\n",
      "The IQR of the number of times the client reached out over a call in the past six months is: 5.0\n"
     ]
    }
   ],
   "source": [
    "# Check statistics of the number of times the client reached out over a call in the past six months (calls-6_mnth)\n",
    "average_calls = client_profiles_df['calls_6_mnth'].mean()\n",
    "std_dev_calls = client_profiles_df['calls_6_mnth'].std()\n",
    "range_calls = client_profiles_df['calls_6_mnth'].max() - client_profiles_df['calls_6_mnth'].min()\n",
    "min_calls = client_profiles_df['calls_6_mnth'].min()\n",
    "max_calls = client_profiles_df['calls_6_mnth'].max()\n",
    "iqr_calls = client_profiles_df['calls_6_mnth'].quantile(0.75) - client_profiles_df['calls_6_mnth'].quantile(0.25)\n",
    "print(f\"The average number of the number of times the client reached out over a call in the past six months is: {average_calls}\")\n",
    "print(f\"The standard deviation of the number of times the client reached out over a call in the past six months is: {std_dev_calls}\")\n",
    "print(f\"The minimun number of the number of times the client reached out over a call in the past six months is: {min_calls}\")\n",
    "print(f\"The maximum number of the number of times the client reached out over a call in the past six months is: {max_calls}\")\n",
    "print(f\"The range number of the number of times the client reached out over a call in the past six months is: {range_calls}\")\n",
    "print(f\"The IQR of the number of times the client reached out over a call in the past six months is: {iqr_calls}\")"
   ]
  },
  {
   "cell_type": "markdown",
   "metadata": {},
   "source": [
    "logons_6_mnth column"
   ]
  },
  {
   "cell_type": "code",
   "execution_count": 23,
   "metadata": {},
   "outputs": [
    {
     "name": "stdout",
     "output_type": "stream",
     "text": [
      "The average number of the frequency with which the client logged onto Vanguards platform over the last six months is: 5.566739854097316\n",
      "The standard deviation of the frequency with which the client logged onto Vanguards platform over the last six months is: 2.3530524155712915\n",
      "The minimun number of the frequency with which the client logged onto Vanguards platform over the last six months is: 1.0\n",
      "The maximum number of the frequency with which the client logged onto Vanguards platform over the last six months is: 9.0\n",
      "The range number of the frequency with which the client logged onto Vanguards platform over the last six months is: 8.0\n",
      "The IQR of the frequency with which the client logged onto Vanguards platform over the last six months is: 3.0\n"
     ]
    }
   ],
   "source": [
    "# Check statistics of the frequency with which the client logged onto Vanguard’s platform over the last six months (logons_6_mnth)\n",
    "average_logons = client_profiles_df['logons_6_mnth'].mean()\n",
    "std_dev_logons = client_profiles_df['logons_6_mnth'].std()\n",
    "range_logons = client_profiles_df['logons_6_mnth'].max() - client_profiles_df['logons_6_mnth'].min()\n",
    "min_logons = client_profiles_df['logons_6_mnth'].min()\n",
    "max_logons = client_profiles_df['logons_6_mnth'].max()\n",
    "iqr_logons = client_profiles_df['logons_6_mnth'].quantile(0.75) - client_profiles_df['logons_6_mnth'].quantile(0.25)\n",
    "print(f\"The average number of the frequency with which the client logged onto Vanguards platform over the last six months is: {average_logons}\")\n",
    "print(f\"The standard deviation of the frequency with which the client logged onto Vanguards platform over the last six months is: {std_dev_logons}\")\n",
    "print(f\"The minimun number of the frequency with which the client logged onto Vanguards platform over the last six months is: {min_logons}\")\n",
    "print(f\"The maximum number of the frequency with which the client logged onto Vanguards platform over the last six months is: {max_logons}\")\n",
    "print(f\"The range number of the frequency with which the client logged onto Vanguards platform over the last six months is: {range_logons}\")\n",
    "print(f\"The IQR of the frequency with which the client logged onto Vanguards platform over the last six months is: {iqr_logons}\")"
   ]
  },
  {
   "cell_type": "code",
   "execution_count": null,
   "metadata": {},
   "outputs": [],
   "source": []
  },
  {
   "cell_type": "markdown",
   "metadata": {},
   "source": [
    "## DIGITAL FOOTPRINTS DF"
   ]
  },
  {
   "cell_type": "code",
   "execution_count": 24,
   "metadata": {},
   "outputs": [],
   "source": [
    "# Read Digital Footprints dataset\n",
    "archivo_digital = \"/Users/natalialabrador/Desktop/Ironhack/Proyectos/5. EDA + Tableau/digital_footprints_df.csv\"\n",
    "digital_footprints_df = pd.read_csv(archivo_digital)"
   ]
  },
  {
   "cell_type": "code",
   "execution_count": 25,
   "metadata": {},
   "outputs": [
    {
     "data": {
      "text/html": [
       "<div>\n",
       "<style scoped>\n",
       "    .dataframe tbody tr th:only-of-type {\n",
       "        vertical-align: middle;\n",
       "    }\n",
       "\n",
       "    .dataframe tbody tr th {\n",
       "        vertical-align: top;\n",
       "    }\n",
       "\n",
       "    .dataframe thead th {\n",
       "        text-align: right;\n",
       "    }\n",
       "</style>\n",
       "<table border=\"1\" class=\"dataframe\">\n",
       "  <thead>\n",
       "    <tr style=\"text-align: right;\">\n",
       "      <th></th>\n",
       "      <th>client_id</th>\n",
       "      <th>visitor_id</th>\n",
       "      <th>visit_id</th>\n",
       "      <th>process_step</th>\n",
       "      <th>date_time</th>\n",
       "    </tr>\n",
       "  </thead>\n",
       "  <tbody>\n",
       "    <tr>\n",
       "      <th>0</th>\n",
       "      <td>9988021</td>\n",
       "      <td>580560515_7732621733</td>\n",
       "      <td>781255054_21935453173_531117</td>\n",
       "      <td>step_3</td>\n",
       "      <td>2017-04-17 15:27:07</td>\n",
       "    </tr>\n",
       "    <tr>\n",
       "      <th>1</th>\n",
       "      <td>9988021</td>\n",
       "      <td>580560515_7732621733</td>\n",
       "      <td>781255054_21935453173_531117</td>\n",
       "      <td>step_2</td>\n",
       "      <td>2017-04-17 15:26:51</td>\n",
       "    </tr>\n",
       "    <tr>\n",
       "      <th>2</th>\n",
       "      <td>9988021</td>\n",
       "      <td>580560515_7732621733</td>\n",
       "      <td>781255054_21935453173_531117</td>\n",
       "      <td>step_3</td>\n",
       "      <td>2017-04-17 15:19:22</td>\n",
       "    </tr>\n",
       "    <tr>\n",
       "      <th>3</th>\n",
       "      <td>9988021</td>\n",
       "      <td>580560515_7732621733</td>\n",
       "      <td>781255054_21935453173_531117</td>\n",
       "      <td>step_2</td>\n",
       "      <td>2017-04-17 15:19:13</td>\n",
       "    </tr>\n",
       "    <tr>\n",
       "      <th>4</th>\n",
       "      <td>9988021</td>\n",
       "      <td>580560515_7732621733</td>\n",
       "      <td>781255054_21935453173_531117</td>\n",
       "      <td>step_3</td>\n",
       "      <td>2017-04-17 15:18:04</td>\n",
       "    </tr>\n",
       "  </tbody>\n",
       "</table>\n",
       "</div>"
      ],
      "text/plain": [
       "   client_id            visitor_id                      visit_id process_step  \\\n",
       "0    9988021  580560515_7732621733  781255054_21935453173_531117       step_3   \n",
       "1    9988021  580560515_7732621733  781255054_21935453173_531117       step_2   \n",
       "2    9988021  580560515_7732621733  781255054_21935453173_531117       step_3   \n",
       "3    9988021  580560515_7732621733  781255054_21935453173_531117       step_2   \n",
       "4    9988021  580560515_7732621733  781255054_21935453173_531117       step_3   \n",
       "\n",
       "             date_time  \n",
       "0  2017-04-17 15:27:07  \n",
       "1  2017-04-17 15:26:51  \n",
       "2  2017-04-17 15:19:22  \n",
       "3  2017-04-17 15:19:13  \n",
       "4  2017-04-17 15:18:04  "
      ]
     },
     "execution_count": 25,
     "metadata": {},
     "output_type": "execute_result"
    }
   ],
   "source": [
    "# Show first rows of the dataframe\n",
    "digital_footprints_df.head()"
   ]
  },
  {
   "cell_type": "markdown",
   "metadata": {},
   "source": [
    "## EXPERIMENT ROSTER DF"
   ]
  },
  {
   "cell_type": "code",
   "execution_count": 26,
   "metadata": {},
   "outputs": [],
   "source": [
    "# Read Experiment Roster dataset\n",
    "archivo_experiment = \"/Users/natalialabrador/Desktop/Ironhack/Proyectos/5. EDA + Tableau/experiment_roster_df.csv\"\n",
    "experiment_roster_df = pd.read_csv(archivo_experiment)"
   ]
  },
  {
   "cell_type": "code",
   "execution_count": 27,
   "metadata": {},
   "outputs": [
    {
     "data": {
      "text/html": [
       "<div>\n",
       "<style scoped>\n",
       "    .dataframe tbody tr th:only-of-type {\n",
       "        vertical-align: middle;\n",
       "    }\n",
       "\n",
       "    .dataframe tbody tr th {\n",
       "        vertical-align: top;\n",
       "    }\n",
       "\n",
       "    .dataframe thead th {\n",
       "        text-align: right;\n",
       "    }\n",
       "</style>\n",
       "<table border=\"1\" class=\"dataframe\">\n",
       "  <thead>\n",
       "    <tr style=\"text-align: right;\">\n",
       "      <th></th>\n",
       "      <th>client_id</th>\n",
       "      <th>Variation</th>\n",
       "    </tr>\n",
       "  </thead>\n",
       "  <tbody>\n",
       "    <tr>\n",
       "      <th>0</th>\n",
       "      <td>9988021</td>\n",
       "      <td>Test</td>\n",
       "    </tr>\n",
       "    <tr>\n",
       "      <th>1</th>\n",
       "      <td>8320017</td>\n",
       "      <td>Test</td>\n",
       "    </tr>\n",
       "    <tr>\n",
       "      <th>2</th>\n",
       "      <td>4033851</td>\n",
       "      <td>Control</td>\n",
       "    </tr>\n",
       "    <tr>\n",
       "      <th>3</th>\n",
       "      <td>1982004</td>\n",
       "      <td>Test</td>\n",
       "    </tr>\n",
       "    <tr>\n",
       "      <th>4</th>\n",
       "      <td>9294070</td>\n",
       "      <td>Control</td>\n",
       "    </tr>\n",
       "  </tbody>\n",
       "</table>\n",
       "</div>"
      ],
      "text/plain": [
       "   client_id Variation\n",
       "0    9988021      Test\n",
       "1    8320017      Test\n",
       "2    4033851   Control\n",
       "3    1982004      Test\n",
       "4    9294070   Control"
      ]
     },
     "execution_count": 27,
     "metadata": {},
     "output_type": "execute_result"
    }
   ],
   "source": [
    "# Show first rows of the dataframe\n",
    "experiment_roster_df.head()"
   ]
  },
  {
   "cell_type": "code",
   "execution_count": 28,
   "metadata": {},
   "outputs": [
    {
     "name": "stdout",
     "output_type": "stream",
     "text": [
      "Percentage of clients for Test variation: 38.19%\n",
      "Percentage of clients for Test variation: 33.33%\n"
     ]
    }
   ],
   "source": [
    "# Count number of clients for each variation\n",
    "variation_counts = experiment_roster_df['Variation'].value_counts()\n",
    "\n",
    "# Calculate the percentage of clients for each variation \n",
    "percentage_test = (variation_counts['Test'] / len(experiment_roster_df)) * 100\n",
    "percentage_control = (variation_counts['Control'] / len(experiment_roster_df)) * 100\n",
    "\n",
    "# Show the results\n",
    "print(f\"Percentage of clients for Test variation: {percentage_test:.2f}%\")\n",
    "print(f\"Percentage of clients for Test variation: {percentage_control:.2f}%\")\n"
   ]
  },
  {
   "cell_type": "markdown",
   "metadata": {},
   "source": [
    "# Bivariate Analysis"
   ]
  },
  {
   "cell_type": "markdown",
   "metadata": {},
   "source": [
    "### Number of clients by variation and gender"
   ]
  },
  {
   "cell_type": "code",
   "execution_count": 29,
   "metadata": {},
   "outputs": [
    {
     "data": {
      "text/html": [
       "<div>\n",
       "<style scoped>\n",
       "    .dataframe tbody tr th:only-of-type {\n",
       "        vertical-align: middle;\n",
       "    }\n",
       "\n",
       "    .dataframe tbody tr th {\n",
       "        vertical-align: top;\n",
       "    }\n",
       "\n",
       "    .dataframe thead th {\n",
       "        text-align: right;\n",
       "    }\n",
       "</style>\n",
       "<table border=\"1\" class=\"dataframe\">\n",
       "  <thead>\n",
       "    <tr style=\"text-align: right;\">\n",
       "      <th></th>\n",
       "      <th>Variation</th>\n",
       "      <th>gender</th>\n",
       "      <th>Count</th>\n",
       "    </tr>\n",
       "  </thead>\n",
       "  <tbody>\n",
       "    <tr>\n",
       "      <th>0</th>\n",
       "      <td>Control</td>\n",
       "      <td>female</td>\n",
       "      <td>7543</td>\n",
       "    </tr>\n",
       "    <tr>\n",
       "      <th>1</th>\n",
       "      <td>Control</td>\n",
       "      <td>male</td>\n",
       "      <td>7970</td>\n",
       "    </tr>\n",
       "    <tr>\n",
       "      <th>2</th>\n",
       "      <td>Control</td>\n",
       "      <td>unknown</td>\n",
       "      <td>8019</td>\n",
       "    </tr>\n",
       "    <tr>\n",
       "      <th>3</th>\n",
       "      <td>Test</td>\n",
       "      <td>female</td>\n",
       "      <td>8716</td>\n",
       "    </tr>\n",
       "    <tr>\n",
       "      <th>4</th>\n",
       "      <td>Test</td>\n",
       "      <td>male</td>\n",
       "      <td>8977</td>\n",
       "    </tr>\n",
       "    <tr>\n",
       "      <th>5</th>\n",
       "      <td>Test</td>\n",
       "      <td>unknown</td>\n",
       "      <td>9275</td>\n",
       "    </tr>\n",
       "  </tbody>\n",
       "</table>\n",
       "</div>"
      ],
      "text/plain": [
       "  Variation   gender  Count\n",
       "0   Control   female   7543\n",
       "1   Control     male   7970\n",
       "2   Control  unknown   8019\n",
       "3      Test   female   8716\n",
       "4      Test     male   8977\n",
       "5      Test  unknown   9275"
      ]
     },
     "execution_count": 29,
     "metadata": {},
     "output_type": "execute_result"
    }
   ],
   "source": [
    "# Fusionar los datasets en función de client_id\n",
    "clients_experiment_df = pd.merge(client_profiles_df, experiment_roster_df, on='client_id')\n",
    "\n",
    "# Realizar el groupby por variación y género y contar el número de clientes\n",
    "grouped_clients_gender_df = clients_experiment_df.groupby(['Variation', 'gender']).size().reset_index(name='Count')\n",
    "\n",
    "# Mostrar el resultado\n",
    "grouped_clients_gender_df.head(6)\n"
   ]
  },
  {
   "cell_type": "code",
   "execution_count": 30,
   "metadata": {},
   "outputs": [
    {
     "data": {
      "text/plain": [
       "<Axes: xlabel='gender', ylabel='Count'>"
      ]
     },
     "execution_count": 30,
     "metadata": {},
     "output_type": "execute_result"
    },
    {
     "data": {
      "image/png": "[encoded data removed]",
      "text/plain": [
       "<Figure size 640x480 with 1 Axes>"
      ]
     },
     "metadata": {},
     "output_type": "display_data"
    }
   ],
   "source": [
    "# Create a bar chart with clients on both groups by gender\n",
    "sns.barplot(data=grouped_clients_gender_df, x='gender', y='Count', hue='Variation')"
   ]
  },
  {
   "cell_type": "code",
   "execution_count": 31,
   "metadata": {},
   "outputs": [
    {
     "data": {
      "text/html": [
       "<div>\n",
       "<style scoped>\n",
       "    .dataframe tbody tr th:only-of-type {\n",
       "        vertical-align: middle;\n",
       "    }\n",
       "\n",
       "    .dataframe tbody tr th {\n",
       "        vertical-align: top;\n",
       "    }\n",
       "\n",
       "    .dataframe thead th {\n",
       "        text-align: right;\n",
       "    }\n",
       "</style>\n",
       "<table border=\"1\" class=\"dataframe\">\n",
       "  <thead>\n",
       "    <tr style=\"text-align: right;\">\n",
       "      <th></th>\n",
       "      <th>Variation</th>\n",
       "      <th>gender</th>\n",
       "      <th>Count</th>\n",
       "      <th>Total</th>\n",
       "      <th>Percentage</th>\n",
       "    </tr>\n",
       "  </thead>\n",
       "  <tbody>\n",
       "    <tr>\n",
       "      <th>0</th>\n",
       "      <td>Control</td>\n",
       "      <td>female</td>\n",
       "      <td>7543</td>\n",
       "      <td>23532</td>\n",
       "      <td>32.054224</td>\n",
       "    </tr>\n",
       "    <tr>\n",
       "      <th>1</th>\n",
       "      <td>Control</td>\n",
       "      <td>male</td>\n",
       "      <td>7970</td>\n",
       "      <td>23532</td>\n",
       "      <td>33.868774</td>\n",
       "    </tr>\n",
       "    <tr>\n",
       "      <th>2</th>\n",
       "      <td>Control</td>\n",
       "      <td>unknown</td>\n",
       "      <td>8019</td>\n",
       "      <td>23532</td>\n",
       "      <td>34.077002</td>\n",
       "    </tr>\n",
       "    <tr>\n",
       "      <th>3</th>\n",
       "      <td>Test</td>\n",
       "      <td>female</td>\n",
       "      <td>8716</td>\n",
       "      <td>26968</td>\n",
       "      <td>32.319786</td>\n",
       "    </tr>\n",
       "    <tr>\n",
       "      <th>4</th>\n",
       "      <td>Test</td>\n",
       "      <td>male</td>\n",
       "      <td>8977</td>\n",
       "      <td>26968</td>\n",
       "      <td>33.287600</td>\n",
       "    </tr>\n",
       "    <tr>\n",
       "      <th>5</th>\n",
       "      <td>Test</td>\n",
       "      <td>unknown</td>\n",
       "      <td>9275</td>\n",
       "      <td>26968</td>\n",
       "      <td>34.392613</td>\n",
       "    </tr>\n",
       "  </tbody>\n",
       "</table>\n",
       "</div>"
      ],
      "text/plain": [
       "  Variation   gender  Count  Total  Percentage\n",
       "0   Control   female   7543  23532   32.054224\n",
       "1   Control     male   7970  23532   33.868774\n",
       "2   Control  unknown   8019  23532   34.077002\n",
       "3      Test   female   8716  26968   32.319786\n",
       "4      Test     male   8977  26968   33.287600\n",
       "5      Test  unknown   9275  26968   34.392613"
      ]
     },
     "execution_count": 31,
     "metadata": {},
     "output_type": "execute_result"
    }
   ],
   "source": [
    "# Calcular los totales de clientes para cada variación\n",
    "grouped_clients_gender_df['Total'] = grouped_clients_gender_df.groupby('Variation')['Count'].transform('sum')\n",
    "\n",
    "# Calcular los porcentajes\n",
    "grouped_clients_gender_df['Percentage'] = (grouped_clients_gender_df['Count'] / grouped_clients_gender_df['Total']) * 100\n",
    "\n",
    "# Mostrar el DataFrame con los porcentajes\n",
    "grouped_clients_gender_df.head(6)\n"
   ]
  },
  {
   "cell_type": "markdown",
   "metadata": {},
   "source": [
    "### SEPARATE CLIENTS BY TEST GROUP AND CONTROL GROUP"
   ]
  },
  {
   "cell_type": "markdown",
   "metadata": {},
   "source": [
    "#### Test Clients"
   ]
  },
  {
   "cell_type": "code",
   "execution_count": 32,
   "metadata": {},
   "outputs": [
    {
     "data": {
      "text/html": [
       "<div>\n",
       "<style scoped>\n",
       "    .dataframe tbody tr th:only-of-type {\n",
       "        vertical-align: middle;\n",
       "    }\n",
       "\n",
       "    .dataframe tbody tr th {\n",
       "        vertical-align: top;\n",
       "    }\n",
       "\n",
       "    .dataframe thead th {\n",
       "        text-align: right;\n",
       "    }\n",
       "</style>\n",
       "<table border=\"1\" class=\"dataframe\">\n",
       "  <thead>\n",
       "    <tr style=\"text-align: right;\">\n",
       "      <th></th>\n",
       "      <th>client_id</th>\n",
       "    </tr>\n",
       "  </thead>\n",
       "  <tbody>\n",
       "    <tr>\n",
       "      <th>0</th>\n",
       "      <td>9988021</td>\n",
       "    </tr>\n",
       "    <tr>\n",
       "      <th>1</th>\n",
       "      <td>8320017</td>\n",
       "    </tr>\n",
       "    <tr>\n",
       "      <th>2</th>\n",
       "      <td>1982004</td>\n",
       "    </tr>\n",
       "    <tr>\n",
       "      <th>3</th>\n",
       "      <td>9466803</td>\n",
       "    </tr>\n",
       "    <tr>\n",
       "      <th>4</th>\n",
       "      <td>3170143</td>\n",
       "    </tr>\n",
       "    <tr>\n",
       "      <th>...</th>\n",
       "      <td>...</td>\n",
       "    </tr>\n",
       "    <tr>\n",
       "      <th>26963</th>\n",
       "      <td>5969816</td>\n",
       "    </tr>\n",
       "    <tr>\n",
       "      <th>26964</th>\n",
       "      <td>8692087</td>\n",
       "    </tr>\n",
       "    <tr>\n",
       "      <th>26965</th>\n",
       "      <td>7230446</td>\n",
       "    </tr>\n",
       "    <tr>\n",
       "      <th>26966</th>\n",
       "      <td>5230357</td>\n",
       "    </tr>\n",
       "    <tr>\n",
       "      <th>26967</th>\n",
       "      <td>6334360</td>\n",
       "    </tr>\n",
       "  </tbody>\n",
       "</table>\n",
       "<p>26968 rows × 1 columns</p>\n",
       "</div>"
      ],
      "text/plain": [
       "       client_id\n",
       "0        9988021\n",
       "1        8320017\n",
       "2        1982004\n",
       "3        9466803\n",
       "4        3170143\n",
       "...          ...\n",
       "26963    5969816\n",
       "26964    8692087\n",
       "26965    7230446\n",
       "26966    5230357\n",
       "26967    6334360\n",
       "\n",
       "[26968 rows x 1 columns]"
      ]
     },
     "execution_count": 32,
     "metadata": {},
     "output_type": "execute_result"
    }
   ],
   "source": [
    "# Create a dataframe for clients that belong to Test Variation\n",
    "client_id_test = experiment_roster_df.loc[experiment_roster_df['Variation']== 'Test', 'client_id'].unique()\n",
    "df_client_id_test = pd.DataFrame({'client_id': client_id_test})\n",
    "df_client_id_test"
   ]
  },
  {
   "cell_type": "markdown",
   "metadata": {},
   "source": [
    "#### Control Clients"
   ]
  },
  {
   "cell_type": "code",
   "execution_count": 33,
   "metadata": {},
   "outputs": [
    {
     "data": {
      "text/html": [
       "<div>\n",
       "<style scoped>\n",
       "    .dataframe tbody tr th:only-of-type {\n",
       "        vertical-align: middle;\n",
       "    }\n",
       "\n",
       "    .dataframe tbody tr th {\n",
       "        vertical-align: top;\n",
       "    }\n",
       "\n",
       "    .dataframe thead th {\n",
       "        text-align: right;\n",
       "    }\n",
       "</style>\n",
       "<table border=\"1\" class=\"dataframe\">\n",
       "  <thead>\n",
       "    <tr style=\"text-align: right;\">\n",
       "      <th></th>\n",
       "      <th>client_id</th>\n",
       "    </tr>\n",
       "  </thead>\n",
       "  <tbody>\n",
       "    <tr>\n",
       "      <th>0</th>\n",
       "      <td>4033851</td>\n",
       "    </tr>\n",
       "    <tr>\n",
       "      <th>1</th>\n",
       "      <td>9294070</td>\n",
       "    </tr>\n",
       "    <tr>\n",
       "      <th>2</th>\n",
       "      <td>6651403</td>\n",
       "    </tr>\n",
       "    <tr>\n",
       "      <th>3</th>\n",
       "      <td>2105948</td>\n",
       "    </tr>\n",
       "    <tr>\n",
       "      <th>4</th>\n",
       "      <td>9814849</td>\n",
       "    </tr>\n",
       "    <tr>\n",
       "      <th>...</th>\n",
       "      <td>...</td>\n",
       "    </tr>\n",
       "    <tr>\n",
       "      <th>23527</th>\n",
       "      <td>4364429</td>\n",
       "    </tr>\n",
       "    <tr>\n",
       "      <th>23528</th>\n",
       "      <td>8730282</td>\n",
       "    </tr>\n",
       "    <tr>\n",
       "      <th>23529</th>\n",
       "      <td>5305116</td>\n",
       "    </tr>\n",
       "    <tr>\n",
       "      <th>23530</th>\n",
       "      <td>393005</td>\n",
       "    </tr>\n",
       "    <tr>\n",
       "      <th>23531</th>\n",
       "      <td>2908510</td>\n",
       "    </tr>\n",
       "  </tbody>\n",
       "</table>\n",
       "<p>23532 rows × 1 columns</p>\n",
       "</div>"
      ],
      "text/plain": [
       "       client_id\n",
       "0        4033851\n",
       "1        9294070\n",
       "2        6651403\n",
       "3        2105948\n",
       "4        9814849\n",
       "...          ...\n",
       "23527    4364429\n",
       "23528    8730282\n",
       "23529    5305116\n",
       "23530     393005\n",
       "23531    2908510\n",
       "\n",
       "[23532 rows x 1 columns]"
      ]
     },
     "execution_count": 33,
     "metadata": {},
     "output_type": "execute_result"
    }
   ],
   "source": [
    "# Create a dataframe for clients that belong to Control Variation\n",
    "client_id_control = experiment_roster_df.loc[experiment_roster_df['Variation']== 'Control', 'client_id'].unique()\n",
    "df_client_id_control = pd.DataFrame({'client_id': client_id_control})\n",
    "df_client_id_control"
   ]
  },
  {
   "cell_type": "markdown",
   "metadata": {},
   "source": [
    "### Join Test clients to their digital footprint"
   ]
  },
  {
   "cell_type": "code",
   "execution_count": 34,
   "metadata": {},
   "outputs": [
    {
     "data": {
      "text/html": [
       "<div>\n",
       "<style scoped>\n",
       "    .dataframe tbody tr th:only-of-type {\n",
       "        vertical-align: middle;\n",
       "    }\n",
       "\n",
       "    .dataframe tbody tr th {\n",
       "        vertical-align: top;\n",
       "    }\n",
       "\n",
       "    .dataframe thead th {\n",
       "        text-align: right;\n",
       "    }\n",
       "</style>\n",
       "<table border=\"1\" class=\"dataframe\">\n",
       "  <thead>\n",
       "    <tr style=\"text-align: right;\">\n",
       "      <th></th>\n",
       "      <th>client_id</th>\n",
       "      <th>visitor_id</th>\n",
       "      <th>visit_id</th>\n",
       "      <th>process_step</th>\n",
       "      <th>date_time</th>\n",
       "    </tr>\n",
       "  </thead>\n",
       "  <tbody>\n",
       "    <tr>\n",
       "      <th>0</th>\n",
       "      <td>9988021</td>\n",
       "      <td>580560515_7732621733</td>\n",
       "      <td>781255054_21935453173_531117</td>\n",
       "      <td>step_3</td>\n",
       "      <td>2017-04-17 15:27:07</td>\n",
       "    </tr>\n",
       "    <tr>\n",
       "      <th>1</th>\n",
       "      <td>9988021</td>\n",
       "      <td>580560515_7732621733</td>\n",
       "      <td>781255054_21935453173_531117</td>\n",
       "      <td>step_2</td>\n",
       "      <td>2017-04-17 15:26:51</td>\n",
       "    </tr>\n",
       "    <tr>\n",
       "      <th>2</th>\n",
       "      <td>9988021</td>\n",
       "      <td>580560515_7732621733</td>\n",
       "      <td>781255054_21935453173_531117</td>\n",
       "      <td>step_3</td>\n",
       "      <td>2017-04-17 15:19:22</td>\n",
       "    </tr>\n",
       "    <tr>\n",
       "      <th>3</th>\n",
       "      <td>9988021</td>\n",
       "      <td>580560515_7732621733</td>\n",
       "      <td>781255054_21935453173_531117</td>\n",
       "      <td>step_2</td>\n",
       "      <td>2017-04-17 15:19:13</td>\n",
       "    </tr>\n",
       "    <tr>\n",
       "      <th>4</th>\n",
       "      <td>9988021</td>\n",
       "      <td>580560515_7732621733</td>\n",
       "      <td>781255054_21935453173_531117</td>\n",
       "      <td>step_3</td>\n",
       "      <td>2017-04-17 15:18:04</td>\n",
       "    </tr>\n",
       "    <tr>\n",
       "      <th>...</th>\n",
       "      <td>...</td>\n",
       "      <td>...</td>\n",
       "      <td>...</td>\n",
       "      <td>...</td>\n",
       "      <td>...</td>\n",
       "    </tr>\n",
       "    <tr>\n",
       "      <th>177842</th>\n",
       "      <td>6334360</td>\n",
       "      <td>629124187_65258232847</td>\n",
       "      <td>586047816_14599436811_389185</td>\n",
       "      <td>step_2</td>\n",
       "      <td>2017-04-11 08:45:38</td>\n",
       "    </tr>\n",
       "    <tr>\n",
       "      <th>177843</th>\n",
       "      <td>6334360</td>\n",
       "      <td>629124187_65258232847</td>\n",
       "      <td>586047816_14599436811_389185</td>\n",
       "      <td>step_1</td>\n",
       "      <td>2017-04-11 08:44:43</td>\n",
       "    </tr>\n",
       "    <tr>\n",
       "      <th>177844</th>\n",
       "      <td>6334360</td>\n",
       "      <td>629124187_65258232847</td>\n",
       "      <td>586047816_14599436811_389185</td>\n",
       "      <td>step_2</td>\n",
       "      <td>2017-04-11 08:44:30</td>\n",
       "    </tr>\n",
       "    <tr>\n",
       "      <th>177845</th>\n",
       "      <td>6334360</td>\n",
       "      <td>629124187_65258232847</td>\n",
       "      <td>586047816_14599436811_389185</td>\n",
       "      <td>step_1</td>\n",
       "      <td>2017-04-11 08:42:36</td>\n",
       "    </tr>\n",
       "    <tr>\n",
       "      <th>177846</th>\n",
       "      <td>6334360</td>\n",
       "      <td>629124187_65258232847</td>\n",
       "      <td>586047816_14599436811_389185</td>\n",
       "      <td>start</td>\n",
       "      <td>2017-04-11 08:42:20</td>\n",
       "    </tr>\n",
       "  </tbody>\n",
       "</table>\n",
       "<p>177847 rows × 5 columns</p>\n",
       "</div>"
      ],
      "text/plain": [
       "        client_id             visitor_id                      visit_id  \\\n",
       "0         9988021   580560515_7732621733  781255054_21935453173_531117   \n",
       "1         9988021   580560515_7732621733  781255054_21935453173_531117   \n",
       "2         9988021   580560515_7732621733  781255054_21935453173_531117   \n",
       "3         9988021   580560515_7732621733  781255054_21935453173_531117   \n",
       "4         9988021   580560515_7732621733  781255054_21935453173_531117   \n",
       "...           ...                    ...                           ...   \n",
       "177842    6334360  629124187_65258232847  586047816_14599436811_389185   \n",
       "177843    6334360  629124187_65258232847  586047816_14599436811_389185   \n",
       "177844    6334360  629124187_65258232847  586047816_14599436811_389185   \n",
       "177845    6334360  629124187_65258232847  586047816_14599436811_389185   \n",
       "177846    6334360  629124187_65258232847  586047816_14599436811_389185   \n",
       "\n",
       "       process_step            date_time  \n",
       "0            step_3  2017-04-17 15:27:07  \n",
       "1            step_2  2017-04-17 15:26:51  \n",
       "2            step_3  2017-04-17 15:19:22  \n",
       "3            step_2  2017-04-17 15:19:13  \n",
       "4            step_3  2017-04-17 15:18:04  \n",
       "...             ...                  ...  \n",
       "177842       step_2  2017-04-11 08:45:38  \n",
       "177843       step_1  2017-04-11 08:44:43  \n",
       "177844       step_2  2017-04-11 08:44:30  \n",
       "177845       step_1  2017-04-11 08:42:36  \n",
       "177846        start  2017-04-11 08:42:20  \n",
       "\n",
       "[177847 rows x 5 columns]"
      ]
     },
     "execution_count": 34,
     "metadata": {},
     "output_type": "execute_result"
    }
   ],
   "source": [
    "# Join clients that belong to Test Variation to their digital footprints\n",
    "df_client_test_digital = pd.merge(df_client_id_test, digital_footprints_df, on='client_id', how='inner')\n",
    "df_client_test_digital"
   ]
  },
  {
   "cell_type": "markdown",
   "metadata": {},
   "source": [
    "### Join Control Variation to their digital footprint"
   ]
  },
  {
   "cell_type": "code",
   "execution_count": 35,
   "metadata": {},
   "outputs": [
    {
     "data": {
      "text/html": [
       "<div>\n",
       "<style scoped>\n",
       "    .dataframe tbody tr th:only-of-type {\n",
       "        vertical-align: middle;\n",
       "    }\n",
       "\n",
       "    .dataframe tbody tr th {\n",
       "        vertical-align: top;\n",
       "    }\n",
       "\n",
       "    .dataframe thead th {\n",
       "        text-align: right;\n",
       "    }\n",
       "</style>\n",
       "<table border=\"1\" class=\"dataframe\">\n",
       "  <thead>\n",
       "    <tr style=\"text-align: right;\">\n",
       "      <th></th>\n",
       "      <th>client_id</th>\n",
       "      <th>visitor_id</th>\n",
       "      <th>visit_id</th>\n",
       "      <th>process_step</th>\n",
       "      <th>date_time</th>\n",
       "    </tr>\n",
       "  </thead>\n",
       "  <tbody>\n",
       "    <tr>\n",
       "      <th>0</th>\n",
       "      <td>4033851</td>\n",
       "      <td>762728880_76361333336</td>\n",
       "      <td>949661017_22392791362_127391</td>\n",
       "      <td>confirm</td>\n",
       "      <td>2017-04-05 12:29:03</td>\n",
       "    </tr>\n",
       "    <tr>\n",
       "      <th>1</th>\n",
       "      <td>4033851</td>\n",
       "      <td>762728880_76361333336</td>\n",
       "      <td>949661017_22392791362_127391</td>\n",
       "      <td>confirm</td>\n",
       "      <td>2017-04-05 12:29:01</td>\n",
       "    </tr>\n",
       "    <tr>\n",
       "      <th>2</th>\n",
       "      <td>4033851</td>\n",
       "      <td>762728880_76361333336</td>\n",
       "      <td>949661017_22392791362_127391</td>\n",
       "      <td>confirm</td>\n",
       "      <td>2017-04-05 12:28:52</td>\n",
       "    </tr>\n",
       "    <tr>\n",
       "      <th>3</th>\n",
       "      <td>4033851</td>\n",
       "      <td>762728880_76361333336</td>\n",
       "      <td>949661017_22392791362_127391</td>\n",
       "      <td>step_3</td>\n",
       "      <td>2017-04-05 12:26:08</td>\n",
       "    </tr>\n",
       "    <tr>\n",
       "      <th>4</th>\n",
       "      <td>4033851</td>\n",
       "      <td>762728880_76361333336</td>\n",
       "      <td>949661017_22392791362_127391</td>\n",
       "      <td>step_2</td>\n",
       "      <td>2017-04-05 12:24:43</td>\n",
       "    </tr>\n",
       "    <tr>\n",
       "      <th>...</th>\n",
       "      <td>...</td>\n",
       "      <td>...</td>\n",
       "      <td>...</td>\n",
       "      <td>...</td>\n",
       "      <td>...</td>\n",
       "    </tr>\n",
       "    <tr>\n",
       "      <th>143457</th>\n",
       "      <td>393005</td>\n",
       "      <td>238199953_33257685972</td>\n",
       "      <td>579367767_60788307935_908431</td>\n",
       "      <td>start</td>\n",
       "      <td>2017-03-29 15:25:20</td>\n",
       "    </tr>\n",
       "    <tr>\n",
       "      <th>143458</th>\n",
       "      <td>2908510</td>\n",
       "      <td>814969699_90652851448</td>\n",
       "      <td>562606085_36368381773_92090</td>\n",
       "      <td>start</td>\n",
       "      <td>2017-05-10 22:57:17</td>\n",
       "    </tr>\n",
       "    <tr>\n",
       "      <th>143459</th>\n",
       "      <td>2908510</td>\n",
       "      <td>814969699_90652851448</td>\n",
       "      <td>562606085_36368381773_92090</td>\n",
       "      <td>step_2</td>\n",
       "      <td>2017-05-10 22:56:31</td>\n",
       "    </tr>\n",
       "    <tr>\n",
       "      <th>143460</th>\n",
       "      <td>2908510</td>\n",
       "      <td>814969699_90652851448</td>\n",
       "      <td>562606085_36368381773_92090</td>\n",
       "      <td>step_1</td>\n",
       "      <td>2017-05-10 22:56:23</td>\n",
       "    </tr>\n",
       "    <tr>\n",
       "      <th>143461</th>\n",
       "      <td>2908510</td>\n",
       "      <td>814969699_90652851448</td>\n",
       "      <td>562606085_36368381773_92090</td>\n",
       "      <td>start</td>\n",
       "      <td>2017-05-10 22:56:20</td>\n",
       "    </tr>\n",
       "  </tbody>\n",
       "</table>\n",
       "<p>143462 rows × 5 columns</p>\n",
       "</div>"
      ],
      "text/plain": [
       "        client_id             visitor_id                      visit_id  \\\n",
       "0         4033851  762728880_76361333336  949661017_22392791362_127391   \n",
       "1         4033851  762728880_76361333336  949661017_22392791362_127391   \n",
       "2         4033851  762728880_76361333336  949661017_22392791362_127391   \n",
       "3         4033851  762728880_76361333336  949661017_22392791362_127391   \n",
       "4         4033851  762728880_76361333336  949661017_22392791362_127391   \n",
       "...           ...                    ...                           ...   \n",
       "143457     393005  238199953_33257685972  579367767_60788307935_908431   \n",
       "143458    2908510  814969699_90652851448   562606085_36368381773_92090   \n",
       "143459    2908510  814969699_90652851448   562606085_36368381773_92090   \n",
       "143460    2908510  814969699_90652851448   562606085_36368381773_92090   \n",
       "143461    2908510  814969699_90652851448   562606085_36368381773_92090   \n",
       "\n",
       "       process_step            date_time  \n",
       "0           confirm  2017-04-05 12:29:03  \n",
       "1           confirm  2017-04-05 12:29:01  \n",
       "2           confirm  2017-04-05 12:28:52  \n",
       "3            step_3  2017-04-05 12:26:08  \n",
       "4            step_2  2017-04-05 12:24:43  \n",
       "...             ...                  ...  \n",
       "143457        start  2017-03-29 15:25:20  \n",
       "143458        start  2017-05-10 22:57:17  \n",
       "143459       step_2  2017-05-10 22:56:31  \n",
       "143460       step_1  2017-05-10 22:56:23  \n",
       "143461        start  2017-05-10 22:56:20  \n",
       "\n",
       "[143462 rows x 5 columns]"
      ]
     },
     "execution_count": 35,
     "metadata": {},
     "output_type": "execute_result"
    }
   ],
   "source": [
    "# Join clients that belong to Control Variation to their digital footprints\n",
    "df_client_control_digital = pd.merge(df_client_id_control, digital_footprints_df, on='client_id', how='inner')\n",
    "df_client_control_digital"
   ]
  },
  {
   "cell_type": "markdown",
   "metadata": {},
   "source": [
    "### CREATE GRAPHICS FOR TEST VARIATION CLIENTS"
   ]
  },
  {
   "cell_type": "markdown",
   "metadata": {},
   "source": [
    "#### Bar chart for number of Test clients for each process step"
   ]
  },
  {
   "cell_type": "code",
   "execution_count": 36,
   "metadata": {},
   "outputs": [
    {
     "data": {
      "image/png": "[encoded data removed]",
      "text/plain": [
       "<Figure size 1000x600 with 1 Axes>"
      ]
     },
     "metadata": {},
     "output_type": "display_data"
    }
   ],
   "source": [
    "# Number of clients of Test Variation for each process step \n",
    "# Contar la cantidad de clientes únicos que han realizado cada paso del proceso\n",
    "process_step_counts_test = df_client_test_digital.groupby('process_step')['client_id'].nunique()\n",
    "\n",
    "# Ordenar los pasos del proceso para asegurar el orden en el gráfico\n",
    "process_step_counts_test  = process_step_counts_test.reindex(['start', 'step_1', 'step_2', 'step_3', 'confirm'])\n",
    "\n",
    "# Crear el gráfico de barras\n",
    "plt.figure(figsize=(10, 6))\n",
    "process_step_counts_test.plot(kind='bar', color='skyblue')\n",
    "plt.title('Número de clientes del grupo Test por paso del proceso')\n",
    "plt.xlabel('Paso del proceso')\n",
    "plt.ylabel('Número de clientes')\n",
    "plt.xticks(rotation=45)\n",
    "plt.show()"
   ]
  },
  {
   "cell_type": "markdown",
   "metadata": {},
   "source": [
    "### CREATE GRAPHICS FOR CONTROL VARIATION CLIENTS"
   ]
  },
  {
   "cell_type": "markdown",
   "metadata": {},
   "source": [
    "#### Bar chart for number of Control clients for each process step "
   ]
  },
  {
   "cell_type": "code",
   "execution_count": 37,
   "metadata": {},
   "outputs": [
    {
     "data": {
      "image/png": "[encoded data removed]",
      "text/plain": [
       "<Figure size 1000x600 with 1 Axes>"
      ]
     },
     "metadata": {},
     "output_type": "display_data"
    }
   ],
   "source": [
    "# Number of clients of Control Variation for each process step\n",
    "# Contar la cantidad de clientes únicos que han realizado cada paso del proceso\n",
    "process_step_counts_control = df_client_control_digital.groupby('process_step')['client_id'].nunique()\n",
    "\n",
    "# Ordenar los pasos del proceso para asegurar el orden en el gráfico\n",
    "process_step_counts_control = process_step_counts_control.reindex(['start', 'step_1', 'step_2', 'step_3', 'confirm'])\n",
    "\n",
    "# Crear el gráfico de barras\n",
    "plt.figure(figsize=(10, 6))\n",
    "process_step_counts_control.plot(kind='bar', color='skyblue')\n",
    "plt.title('Número de clientes del grupo Control por paso del proceso')\n",
    "plt.xlabel('Paso del proceso')\n",
    "plt.ylabel('Número de clientes')\n",
    "plt.xticks(rotation=45)\n",
    "plt.show()"
   ]
  },
  {
   "cell_type": "markdown",
   "metadata": {},
   "source": [
    "#### Test Clients attributes"
   ]
  },
  {
   "cell_type": "code",
   "execution_count": 68,
   "metadata": {},
   "outputs": [
    {
     "data": {
      "text/html": [
       "<div>\n",
       "<style scoped>\n",
       "    .dataframe tbody tr th:only-of-type {\n",
       "        vertical-align: middle;\n",
       "    }\n",
       "\n",
       "    .dataframe tbody tr th {\n",
       "        vertical-align: top;\n",
       "    }\n",
       "\n",
       "    .dataframe thead th {\n",
       "        text-align: right;\n",
       "    }\n",
       "</style>\n",
       "<table border=\"1\" class=\"dataframe\">\n",
       "  <thead>\n",
       "    <tr style=\"text-align: right;\">\n",
       "      <th></th>\n",
       "      <th>client_id</th>\n",
       "      <th>clnt_age</th>\n",
       "      <th>clnt_tenure_yr</th>\n",
       "      <th>gender</th>\n",
       "      <th>num_accts</th>\n",
       "      <th>bal</th>\n",
       "      <th>calls_6_mnth</th>\n",
       "      <th>logons_6_mnth</th>\n",
       "    </tr>\n",
       "  </thead>\n",
       "  <tbody>\n",
       "    <tr>\n",
       "      <th>0</th>\n",
       "      <td>9988021</td>\n",
       "      <td>79.0</td>\n",
       "      <td>5.0</td>\n",
       "      <td>unknown</td>\n",
       "      <td>2.0</td>\n",
       "      <td>189023.86</td>\n",
       "      <td>1.0</td>\n",
       "      <td>4.0</td>\n",
       "    </tr>\n",
       "    <tr>\n",
       "      <th>1</th>\n",
       "      <td>8320017</td>\n",
       "      <td>34.5</td>\n",
       "      <td>22.0</td>\n",
       "      <td>male</td>\n",
       "      <td>2.0</td>\n",
       "      <td>36001.90</td>\n",
       "      <td>5.0</td>\n",
       "      <td>8.0</td>\n",
       "    </tr>\n",
       "    <tr>\n",
       "      <th>2</th>\n",
       "      <td>1982004</td>\n",
       "      <td>44.5</td>\n",
       "      <td>6.0</td>\n",
       "      <td>unknown</td>\n",
       "      <td>2.0</td>\n",
       "      <td>30231.76</td>\n",
       "      <td>1.0</td>\n",
       "      <td>4.0</td>\n",
       "    </tr>\n",
       "    <tr>\n",
       "      <th>3</th>\n",
       "      <td>9466803</td>\n",
       "      <td>27.0</td>\n",
       "      <td>11.0</td>\n",
       "      <td>female</td>\n",
       "      <td>2.0</td>\n",
       "      <td>46131.19</td>\n",
       "      <td>1.0</td>\n",
       "      <td>4.0</td>\n",
       "    </tr>\n",
       "    <tr>\n",
       "      <th>4</th>\n",
       "      <td>3170143</td>\n",
       "      <td>53.5</td>\n",
       "      <td>21.0</td>\n",
       "      <td>female</td>\n",
       "      <td>2.0</td>\n",
       "      <td>192109.59</td>\n",
       "      <td>6.0</td>\n",
       "      <td>9.0</td>\n",
       "    </tr>\n",
       "  </tbody>\n",
       "</table>\n",
       "</div>"
      ],
      "text/plain": [
       "   client_id  clnt_age  clnt_tenure_yr   gender  num_accts        bal  \\\n",
       "0    9988021      79.0             5.0  unknown        2.0  189023.86   \n",
       "1    8320017      34.5            22.0     male        2.0   36001.90   \n",
       "2    1982004      44.5             6.0  unknown        2.0   30231.76   \n",
       "3    9466803      27.0            11.0   female        2.0   46131.19   \n",
       "4    3170143      53.5            21.0   female        2.0  192109.59   \n",
       "\n",
       "   calls_6_mnth  logons_6_mnth  \n",
       "0           1.0            4.0  \n",
       "1           5.0            8.0  \n",
       "2           1.0            4.0  \n",
       "3           1.0            4.0  \n",
       "4           6.0            9.0  "
      ]
     },
     "execution_count": 68,
     "metadata": {},
     "output_type": "execute_result"
    }
   ],
   "source": [
    "# Fusionar las tablas en función del client_id para agregar la información del grupo Test\n",
    "df_client_test = pd.merge(df_client_id_test, client_profiles_df[['client_id', 'clnt_age', 'clnt_tenure_yr', 'gender', 'num_accts', 'bal', 'calls_6_mnth', 'logons_6_mnth']], on='client_id', how='left')\n",
    "df_client_test.head()"
   ]
  },
  {
   "cell_type": "code",
   "execution_count": 39,
   "metadata": {},
   "outputs": [
    {
     "data": {
      "text/plain": [
       "47.1638794126372"
      ]
     },
     "execution_count": 39,
     "metadata": {},
     "output_type": "execute_result"
    }
   ],
   "source": [
    "# Average age of Test clients\n",
    "df_client_test[\"clnt_age\"].mean()"
   ]
  },
  {
   "cell_type": "code",
   "execution_count": 40,
   "metadata": {},
   "outputs": [
    {
     "data": {
      "text/plain": [
       "(26968, 6)"
      ]
     },
     "execution_count": 40,
     "metadata": {},
     "output_type": "execute_result"
    }
   ],
   "source": [
    "df_client_test.shape"
   ]
  },
  {
   "cell_type": "code",
   "execution_count": 41,
   "metadata": {},
   "outputs": [
    {
     "data": {
      "text/plain": [
       "<Axes: xlabel='clnt_age', ylabel='Count'>"
      ]
     },
     "execution_count": 41,
     "metadata": {},
     "output_type": "execute_result"
    },
    {
     "data": {
      "image/png": "[encoded data removed]",
      "text/plain": [
       "<Figure size 640x480 with 1 Axes>"
      ]
     },
     "metadata": {},
     "output_type": "display_data"
    }
   ],
   "source": [
    "# Create a histoplot for age of clients\n",
    "sns.histplot(df_client_test['clnt_age'], kde=True, bins=30, color=\"salmon\")"
   ]
  },
  {
   "cell_type": "markdown",
   "metadata": {},
   "source": [
    "#### Control Clients attributes"
   ]
  },
  {
   "cell_type": "code",
   "execution_count": 69,
   "metadata": {},
   "outputs": [
    {
     "data": {
      "text/html": [
       "<div>\n",
       "<style scoped>\n",
       "    .dataframe tbody tr th:only-of-type {\n",
       "        vertical-align: middle;\n",
       "    }\n",
       "\n",
       "    .dataframe tbody tr th {\n",
       "        vertical-align: top;\n",
       "    }\n",
       "\n",
       "    .dataframe thead th {\n",
       "        text-align: right;\n",
       "    }\n",
       "</style>\n",
       "<table border=\"1\" class=\"dataframe\">\n",
       "  <thead>\n",
       "    <tr style=\"text-align: right;\">\n",
       "      <th></th>\n",
       "      <th>client_id</th>\n",
       "      <th>clnt_age</th>\n",
       "      <th>clnt_tenure_yr</th>\n",
       "      <th>gender</th>\n",
       "      <th>num_accts</th>\n",
       "      <th>bal</th>\n",
       "      <th>calls_6_mnth</th>\n",
       "      <th>logons_6_mnth</th>\n",
       "    </tr>\n",
       "  </thead>\n",
       "  <tbody>\n",
       "    <tr>\n",
       "      <th>0</th>\n",
       "      <td>4033851</td>\n",
       "      <td>63.5</td>\n",
       "      <td>12.0</td>\n",
       "      <td>male</td>\n",
       "      <td>2.0</td>\n",
       "      <td>142642.26</td>\n",
       "      <td>5.0</td>\n",
       "      <td>8.0</td>\n",
       "    </tr>\n",
       "    <tr>\n",
       "      <th>1</th>\n",
       "      <td>9294070</td>\n",
       "      <td>29.0</td>\n",
       "      <td>5.0</td>\n",
       "      <td>unknown</td>\n",
       "      <td>2.0</td>\n",
       "      <td>34254.54</td>\n",
       "      <td>0.0</td>\n",
       "      <td>3.0</td>\n",
       "    </tr>\n",
       "    <tr>\n",
       "      <th>2</th>\n",
       "      <td>6651403</td>\n",
       "      <td>56.5</td>\n",
       "      <td>13.0</td>\n",
       "      <td>male</td>\n",
       "      <td>2.0</td>\n",
       "      <td>324712.88</td>\n",
       "      <td>4.0</td>\n",
       "      <td>7.0</td>\n",
       "    </tr>\n",
       "    <tr>\n",
       "      <th>3</th>\n",
       "      <td>2105948</td>\n",
       "      <td>61.5</td>\n",
       "      <td>6.0</td>\n",
       "      <td>unknown</td>\n",
       "      <td>2.0</td>\n",
       "      <td>39795.28</td>\n",
       "      <td>1.0</td>\n",
       "      <td>4.0</td>\n",
       "    </tr>\n",
       "    <tr>\n",
       "      <th>4</th>\n",
       "      <td>9814849</td>\n",
       "      <td>32.5</td>\n",
       "      <td>12.0</td>\n",
       "      <td>female</td>\n",
       "      <td>2.0</td>\n",
       "      <td>33807.15</td>\n",
       "      <td>1.0</td>\n",
       "      <td>4.0</td>\n",
       "    </tr>\n",
       "  </tbody>\n",
       "</table>\n",
       "</div>"
      ],
      "text/plain": [
       "   client_id  clnt_age  clnt_tenure_yr   gender  num_accts        bal  \\\n",
       "0    4033851      63.5            12.0     male        2.0  142642.26   \n",
       "1    9294070      29.0             5.0  unknown        2.0   34254.54   \n",
       "2    6651403      56.5            13.0     male        2.0  324712.88   \n",
       "3    2105948      61.5             6.0  unknown        2.0   39795.28   \n",
       "4    9814849      32.5            12.0   female        2.0   33807.15   \n",
       "\n",
       "   calls_6_mnth  logons_6_mnth  \n",
       "0           5.0            8.0  \n",
       "1           0.0            3.0  \n",
       "2           4.0            7.0  \n",
       "3           1.0            4.0  \n",
       "4           1.0            4.0  "
      ]
     },
     "execution_count": 69,
     "metadata": {},
     "output_type": "execute_result"
    }
   ],
   "source": [
    "# Fusionar las tablas en función del client_id para agregar la información del grupo Control\n",
    "df_client_control = pd.merge(df_client_id_control, client_profiles_df[['client_id', 'clnt_age', 'clnt_tenure_yr', 'gender', 'num_accts', 'bal', 'calls_6_mnth', 'logons_6_mnth']], on='client_id', how='left')\n",
    "df_client_control.head()"
   ]
  },
  {
   "cell_type": "code",
   "execution_count": 43,
   "metadata": {},
   "outputs": [
    {
     "data": {
      "text/plain": [
       "(23532, 6)"
      ]
     },
     "execution_count": 43,
     "metadata": {},
     "output_type": "execute_result"
    }
   ],
   "source": [
    "df_client_control.shape"
   ]
  },
  {
   "cell_type": "code",
   "execution_count": 44,
   "metadata": {},
   "outputs": [
    {
     "data": {
      "text/plain": [
       "47.498300186979435"
      ]
     },
     "execution_count": 44,
     "metadata": {},
     "output_type": "execute_result"
    }
   ],
   "source": [
    "# Average age of Control clients\n",
    "df_client_control[\"clnt_age\"].mean()"
   ]
  },
  {
   "cell_type": "markdown",
   "metadata": {},
   "source": [
    "#### Relationship between number of accounts and balance on Test clients"
   ]
  },
  {
   "cell_type": "code",
   "execution_count": 45,
   "metadata": {},
   "outputs": [
    {
     "data": {
      "image/png": "[encoded data removed]",
      "text/plain": [
       "<Figure size 800x600 with 1 Axes>"
      ]
     },
     "metadata": {},
     "output_type": "display_data"
    },
    {
     "name": "stdout",
     "output_type": "stream",
     "text": [
      "Coeficiente de correlación: 0.2567857876182945\n"
     ]
    }
   ],
   "source": [
    "# Trazar el gráfico de dispersión\n",
    "plt.figure(figsize=(8, 6))\n",
    "sns.scatterplot(data=df_client_test, x=\"num_accts\", y=\"bal\")\n",
    "plt.title(\"Relación entre el número de cuentas y el saldo\")\n",
    "plt.xlabel(\"Número de cuentas\")\n",
    "plt.ylabel(\"Saldo\")\n",
    "plt.grid(True)\n",
    "plt.show()\n",
    "\n",
    "# Calcular el coeficiente de correlación\n",
    "correlation = df_client_test[\"num_accts\"].corr(df_client_test[\"bal\"])\n",
    "print(\"Coeficiente de correlación:\", correlation)"
   ]
  },
  {
   "cell_type": "markdown",
   "metadata": {},
   "source": [
    "#### Relationship between number of accounts and balance on Test clients"
   ]
  },
  {
   "cell_type": "code",
   "execution_count": 46,
   "metadata": {},
   "outputs": [
    {
     "data": {
      "image/png": "[encoded data removed]",
      "text/plain": [
       "<Figure size 800x600 with 1 Axes>"
      ]
     },
     "metadata": {},
     "output_type": "display_data"
    },
    {
     "name": "stdout",
     "output_type": "stream",
     "text": [
      "Coeficiente de correlación: 0.2768093185745736\n"
     ]
    }
   ],
   "source": [
    "# Trazar el gráfico de dispersión\n",
    "plt.figure(figsize=(8, 6))\n",
    "sns.scatterplot(data=df_client_control, x=\"num_accts\", y=\"bal\")\n",
    "plt.title(\"Relación entre el número de cuentas y el saldo\")\n",
    "plt.xlabel(\"Número de cuentas\")\n",
    "plt.ylabel(\"Saldo\")\n",
    "plt.grid(True)\n",
    "plt.show()\n",
    "\n",
    "# Calcular el coeficiente de correlación\n",
    "correlation = df_client_control[\"num_accts\"].corr(df_client_control[\"bal\"])\n",
    "print(\"Coeficiente de correlación:\", correlation)"
   ]
  },
  {
   "cell_type": "markdown",
   "metadata": {},
   "source": [
    "#### Balance vs Gender on Test Clients"
   ]
  },
  {
   "cell_type": "code",
   "execution_count": 47,
   "metadata": {},
   "outputs": [
    {
     "data": {
      "image/png": "[encoded data removed]",
      "text/plain": [
       "<Figure size 1000x600 with 1 Axes>"
      ]
     },
     "metadata": {},
     "output_type": "display_data"
    }
   ],
   "source": [
    "# Comparación del saldo entre diferentes géneros\n",
    "plt.figure(figsize=(10, 6))\n",
    "sns.barplot(data=df_client_test, x=\"gender\", y=\"bal\")\n",
    "plt.title(\"Comparación del saldo entre diferentes géneros\")\n",
    "plt.xlabel(\"Género\")\n",
    "plt.ylabel(\"Saldo\")\n",
    "plt.show()\n"
   ]
  },
  {
   "cell_type": "markdown",
   "metadata": {},
   "source": [
    "#### Balance vs Gender on Control Clients"
   ]
  },
  {
   "cell_type": "code",
   "execution_count": 48,
   "metadata": {},
   "outputs": [
    {
     "data": {
      "image/png": "[encoded data removed]",
      "text/plain": [
       "<Figure size 1000x600 with 1 Axes>"
      ]
     },
     "metadata": {},
     "output_type": "display_data"
    }
   ],
   "source": [
    "# Comparación del saldo entre diferentes géneros\n",
    "plt.figure(figsize=(10, 6))\n",
    "sns.barplot(data=df_client_control, x=\"gender\", y=\"bal\")\n",
    "plt.title(\"Comparación del saldo entre diferentes géneros\")\n",
    "plt.xlabel(\"Género\")\n",
    "plt.ylabel(\"Saldo\")\n",
    "plt.show()"
   ]
  },
  {
   "cell_type": "markdown",
   "metadata": {},
   "source": [
    "# KPIs and Metrics"
   ]
  },
  {
   "cell_type": "markdown",
   "metadata": {},
   "source": [
    "## Completion Rate: "
   ]
  },
  {
   "cell_type": "markdown",
   "metadata": {},
   "source": [
    "### Proportion of clients who reach the final ‘confirm’ step "
   ]
  },
  {
   "cell_type": "code",
   "execution_count": 49,
   "metadata": {},
   "outputs": [
    {
     "data": {
      "text/plain": [
       "81145"
      ]
     },
     "execution_count": 49,
     "metadata": {},
     "output_type": "execute_result"
    }
   ],
   "source": [
    "# Calculate number of unique clients that reached the confirm step \n",
    "num_clients_confirm = digital_footprints_df[digital_footprints_df['process_step'] == 'confirm']['client_id'].nunique()\n",
    "num_clients_confirm"
   ]
  },
  {
   "cell_type": "code",
   "execution_count": 50,
   "metadata": {},
   "outputs": [
    {
     "name": "stdout",
     "output_type": "stream",
     "text": [
      "The proportion of clients who reach the final 'confirm' step is: 67.53%\n"
     ]
    }
   ],
   "source": [
    "# Percentage of unique clients that reached the confirm step \n",
    "percentage_confirm = (num_clients_confirm / digital_footprints_df['client_id'].nunique()) * 100\n",
    "print(\"The proportion of clients who reach the final 'confirm' step is: {:.2f}%\".format(percentage_confirm))"
   ]
  },
  {
   "cell_type": "markdown",
   "metadata": {},
   "source": [
    "### Proportion of Test clients who reach the final ‘confirm’ step "
   ]
  },
  {
   "cell_type": "code",
   "execution_count": 51,
   "metadata": {},
   "outputs": [
    {
     "data": {
      "text/plain": [
       "0.1446299347191687"
      ]
     },
     "execution_count": 51,
     "metadata": {},
     "output_type": "execute_result"
    }
   ],
   "source": [
    "# Calculate number of Control clients that reached the confirm step \n",
    "num_test_clients_confirm = len(df_client_test_digital[df_client_test_digital[\"process_step\"]==\"confirm\"])\n",
    "total_test_clients = len(df_client_test_digital)\n",
    "# Calculate completion rate for Control Clients\n",
    "completion_rate_test = num_test_clients_confirm / total_test_clients\n",
    "completion_rate_test\n",
    "\n",
    "\n"
   ]
  },
  {
   "cell_type": "markdown",
   "metadata": {},
   "source": [
    "### Proportion of Control clients who reach the final ‘confirm’ step "
   ]
  },
  {
   "cell_type": "code",
   "execution_count": 52,
   "metadata": {},
   "outputs": [
    {
     "data": {
      "text/plain": [
       "0.12201837420362187"
      ]
     },
     "execution_count": 52,
     "metadata": {},
     "output_type": "execute_result"
    }
   ],
   "source": [
    "# Calculate number of Control clients that reached the confirm step \n",
    "num_control_clients_confirm = len(df_client_control_digital[df_client_control_digital[\"process_step\"]==\"confirm\"])\n",
    "total_control_clients = len(df_client_control_digital)\n",
    "# Calculate completion rate for Control Clients\n",
    "completion_rate_control = num_control_clients_confirm / total_control_clients\n",
    "completion_rate_control"
   ]
  },
  {
   "cell_type": "markdown",
   "metadata": {},
   "source": [
    "#### Clients in the Test group are the ones who have reached the final 'confirm' step most often."
   ]
  },
  {
   "cell_type": "markdown",
   "metadata": {},
   "source": [
    "### Bar chart number of clients that reached the confirm step"
   ]
  },
  {
   "cell_type": "code",
   "execution_count": 53,
   "metadata": {},
   "outputs": [
    {
     "data": {
      "image/png": "[encoded data removed]",
      "text/plain": [
       "<Figure size 1000x600 with 1 Axes>"
      ]
     },
     "metadata": {},
     "output_type": "display_data"
    }
   ],
   "source": [
    "groups_of_clients = ['Test Clients', 'Control Clients']\n",
    "number_of_confirms = [num_test_clients_confirm, num_control_clients_confirm]\n",
    "\n",
    "\n",
    "# Crear el gráfico de barras\n",
    "plt.figure(figsize=(10, 6))  # Tamaño del gráfico\n",
    "\n",
    "# Graficar los datos\n",
    "plt.bar(groups_of_clients, number_of_confirms, color='skyblue')\n",
    "\n",
    "# Agregar título y etiquetas\n",
    "plt.title('Number of clients that have reached the confirm step by group')\n",
    "plt.xlabel('Groups of Clients')\n",
    "plt.ylabel('Number of clients')\n",
    "\n",
    "# Mostrar el gráfico\n",
    "plt.xticks(rotation=45)  # Rotar las etiquetas del eje x para que sean legibles\n",
    "plt.tight_layout()  # Ajustar el diseño del gráfico\n",
    "plt.show()"
   ]
  },
  {
   "cell_type": "markdown",
   "metadata": {},
   "source": [
    "## Time Spent on Each Step"
   ]
  },
  {
   "cell_type": "markdown",
   "metadata": {},
   "source": [
    "### Time Spent on Each Step for Test Clients"
   ]
  },
  {
   "cell_type": "code",
   "execution_count": 54,
   "metadata": {},
   "outputs": [
    {
     "data": {
      "text/html": [
       "<div>\n",
       "<style scoped>\n",
       "    .dataframe tbody tr th:only-of-type {\n",
       "        vertical-align: middle;\n",
       "    }\n",
       "\n",
       "    .dataframe tbody tr th {\n",
       "        vertical-align: top;\n",
       "    }\n",
       "\n",
       "    .dataframe thead th {\n",
       "        text-align: right;\n",
       "    }\n",
       "</style>\n",
       "<table border=\"1\" class=\"dataframe\">\n",
       "  <thead>\n",
       "    <tr style=\"text-align: right;\">\n",
       "      <th></th>\n",
       "      <th>client_id</th>\n",
       "      <th>visitor_id</th>\n",
       "      <th>visit_id</th>\n",
       "      <th>process_step</th>\n",
       "      <th>date_time</th>\n",
       "      <th>time_spent</th>\n",
       "      <th>date_spent</th>\n",
       "      <th>time_spent_seconds</th>\n",
       "    </tr>\n",
       "  </thead>\n",
       "  <tbody>\n",
       "    <tr>\n",
       "      <th>52161</th>\n",
       "      <td>555</td>\n",
       "      <td>402506806_56087378777</td>\n",
       "      <td>637149525_38041617439_716659</td>\n",
       "      <td>start</td>\n",
       "      <td>2017-04-15 12:57:56</td>\n",
       "      <td>0 days 00:00:00</td>\n",
       "      <td>0</td>\n",
       "      <td>0.0</td>\n",
       "    </tr>\n",
       "    <tr>\n",
       "      <th>52160</th>\n",
       "      <td>555</td>\n",
       "      <td>402506806_56087378777</td>\n",
       "      <td>637149525_38041617439_716659</td>\n",
       "      <td>step_1</td>\n",
       "      <td>2017-04-15 12:58:03</td>\n",
       "      <td>0 days 00:00:07</td>\n",
       "      <td>0</td>\n",
       "      <td>7.0</td>\n",
       "    </tr>\n",
       "    <tr>\n",
       "      <th>52159</th>\n",
       "      <td>555</td>\n",
       "      <td>402506806_56087378777</td>\n",
       "      <td>637149525_38041617439_716659</td>\n",
       "      <td>step_2</td>\n",
       "      <td>2017-04-15 12:58:35</td>\n",
       "      <td>0 days 00:00:32</td>\n",
       "      <td>0</td>\n",
       "      <td>32.0</td>\n",
       "    </tr>\n",
       "    <tr>\n",
       "      <th>52158</th>\n",
       "      <td>555</td>\n",
       "      <td>402506806_56087378777</td>\n",
       "      <td>637149525_38041617439_716659</td>\n",
       "      <td>step_3</td>\n",
       "      <td>2017-04-15 13:00:14</td>\n",
       "      <td>0 days 00:01:39</td>\n",
       "      <td>0</td>\n",
       "      <td>99.0</td>\n",
       "    </tr>\n",
       "    <tr>\n",
       "      <th>52157</th>\n",
       "      <td>555</td>\n",
       "      <td>402506806_56087378777</td>\n",
       "      <td>637149525_38041617439_716659</td>\n",
       "      <td>confirm</td>\n",
       "      <td>2017-04-15 13:00:34</td>\n",
       "      <td>0 days 00:00:20</td>\n",
       "      <td>0</td>\n",
       "      <td>20.0</td>\n",
       "    </tr>\n",
       "    <tr>\n",
       "      <th>...</th>\n",
       "      <td>...</td>\n",
       "      <td>...</td>\n",
       "      <td>...</td>\n",
       "      <td>...</td>\n",
       "      <td>...</td>\n",
       "      <td>...</td>\n",
       "      <td>...</td>\n",
       "      <td>...</td>\n",
       "    </tr>\n",
       "    <tr>\n",
       "      <th>77449</th>\n",
       "      <td>9999729</td>\n",
       "      <td>834634258_21862004160</td>\n",
       "      <td>870243567_56915814033_814203</td>\n",
       "      <td>confirm</td>\n",
       "      <td>2017-05-08 16:09:40</td>\n",
       "      <td>0 days 00:00:21</td>\n",
       "      <td>0</td>\n",
       "      <td>21.0</td>\n",
       "    </tr>\n",
       "    <tr>\n",
       "      <th>77444</th>\n",
       "      <td>9999729</td>\n",
       "      <td>604429154_69247391147</td>\n",
       "      <td>99583652_41711450505_426179</td>\n",
       "      <td>start</td>\n",
       "      <td>2017-04-05 13:40:49</td>\n",
       "      <td>0 days 00:00:00</td>\n",
       "      <td>0</td>\n",
       "      <td>0.0</td>\n",
       "    </tr>\n",
       "    <tr>\n",
       "      <th>77443</th>\n",
       "      <td>9999729</td>\n",
       "      <td>604429154_69247391147</td>\n",
       "      <td>99583652_41711450505_426179</td>\n",
       "      <td>step_1</td>\n",
       "      <td>2017-04-05 13:41:04</td>\n",
       "      <td>0 days 00:00:15</td>\n",
       "      <td>0</td>\n",
       "      <td>15.0</td>\n",
       "    </tr>\n",
       "    <tr>\n",
       "      <th>8318</th>\n",
       "      <td>9999832</td>\n",
       "      <td>145538019_54444341400</td>\n",
       "      <td>472154369_16714624241_585315</td>\n",
       "      <td>start</td>\n",
       "      <td>2017-05-16 16:46:03</td>\n",
       "      <td>0 days 00:00:00</td>\n",
       "      <td>0</td>\n",
       "      <td>0.0</td>\n",
       "    </tr>\n",
       "    <tr>\n",
       "      <th>8317</th>\n",
       "      <td>9999832</td>\n",
       "      <td>145538019_54444341400</td>\n",
       "      <td>472154369_16714624241_585315</td>\n",
       "      <td>step_1</td>\n",
       "      <td>2017-05-16 16:46:11</td>\n",
       "      <td>0 days 00:00:08</td>\n",
       "      <td>0</td>\n",
       "      <td>8.0</td>\n",
       "    </tr>\n",
       "  </tbody>\n",
       "</table>\n",
       "<p>177847 rows × 8 columns</p>\n",
       "</div>"
      ],
      "text/plain": [
       "       client_id             visitor_id                      visit_id  \\\n",
       "52161        555  402506806_56087378777  637149525_38041617439_716659   \n",
       "52160        555  402506806_56087378777  637149525_38041617439_716659   \n",
       "52159        555  402506806_56087378777  637149525_38041617439_716659   \n",
       "52158        555  402506806_56087378777  637149525_38041617439_716659   \n",
       "52157        555  402506806_56087378777  637149525_38041617439_716659   \n",
       "...          ...                    ...                           ...   \n",
       "77449    9999729  834634258_21862004160  870243567_56915814033_814203   \n",
       "77444    9999729  604429154_69247391147   99583652_41711450505_426179   \n",
       "77443    9999729  604429154_69247391147   99583652_41711450505_426179   \n",
       "8318     9999832  145538019_54444341400  472154369_16714624241_585315   \n",
       "8317     9999832  145538019_54444341400  472154369_16714624241_585315   \n",
       "\n",
       "      process_step           date_time      time_spent  date_spent  \\\n",
       "52161        start 2017-04-15 12:57:56 0 days 00:00:00           0   \n",
       "52160       step_1 2017-04-15 12:58:03 0 days 00:00:07           0   \n",
       "52159       step_2 2017-04-15 12:58:35 0 days 00:00:32           0   \n",
       "52158       step_3 2017-04-15 13:00:14 0 days 00:01:39           0   \n",
       "52157      confirm 2017-04-15 13:00:34 0 days 00:00:20           0   \n",
       "...            ...                 ...             ...         ...   \n",
       "77449      confirm 2017-05-08 16:09:40 0 days 00:00:21           0   \n",
       "77444        start 2017-04-05 13:40:49 0 days 00:00:00           0   \n",
       "77443       step_1 2017-04-05 13:41:04 0 days 00:00:15           0   \n",
       "8318         start 2017-05-16 16:46:03 0 days 00:00:00           0   \n",
       "8317        step_1 2017-05-16 16:46:11 0 days 00:00:08           0   \n",
       "\n",
       "       time_spent_seconds  \n",
       "52161                 0.0  \n",
       "52160                 7.0  \n",
       "52159                32.0  \n",
       "52158                99.0  \n",
       "52157                20.0  \n",
       "...                   ...  \n",
       "77449                21.0  \n",
       "77444                 0.0  \n",
       "77443                15.0  \n",
       "8318                  0.0  \n",
       "8317                  8.0  \n",
       "\n",
       "[177847 rows x 8 columns]"
      ]
     },
     "execution_count": 54,
     "metadata": {},
     "output_type": "execute_result"
    }
   ],
   "source": [
    "# Convertir la columna 'date_time' a formato de fecha y hora\n",
    "df_client_test_digital['date_time'] = pd.to_datetime(df_client_test_digital['date_time'])\n",
    "\n",
    "# Ordenar correctamente el DataFrame\n",
    "df_client_test_digital.sort_values(by=['client_id', 'visit_id', 'date_time'], inplace=True)\n",
    "\n",
    "# Calcular el tiempo pasado entre process_step consecutivos\n",
    "df_client_test_digital['time_spent'] = df_client_test_digital.groupby(['client_id', 'visit_id'])['date_time'].diff()\n",
    "\n",
    "# Extraer días y tiempo separadamente\n",
    "df_client_test_digital['date_spent'] = df_client_test_digital['time_spent'].dt.days.fillna(0).astype(int)\n",
    "df_client_test_digital['time_spent'] = df_client_test_digital['time_spent'].apply(lambda x: pd.Timedelta(seconds=x.total_seconds() % 86400) if pd.notnull(x) else pd.Timedelta(seconds=0))\n",
    "\n",
    "# Ajustar días negativos a cero\n",
    "df_client_test_digital['date_spent'] = df_client_test_digital['date_spent'].apply(lambda x: max(x, 0))\n",
    "\n",
    "# Asignar la columna 'time_spent' definitivamente al DataFrame\n",
    "df_client_test_digital['time_spent'] = df_client_test_digital['time_spent']\n",
    "\n",
    "# Convertir la columna 'time_spent' a formato timedelta\n",
    "df_client_test_digital['time_spent'] = pd.to_timedelta(df_client_test_digital['time_spent'])\n",
    "\n",
    "# Convertir los intervalos de tiempo a segundos\n",
    "df_client_test_digital['time_spent_seconds'] = df_client_test_digital['time_spent'].apply(lambda x: x.total_seconds())\n",
    "df_client_test_digital\n"
   ]
  },
  {
   "cell_type": "code",
   "execution_count": 55,
   "metadata": {},
   "outputs": [
    {
     "name": "stdout",
     "output_type": "stream",
     "text": [
      "Average Time Spent on Each Step (Test Group):\n",
      "process_step\n",
      "confirm   0 days 00:01:51.798615970\n",
      "start     0 days 00:01:01.011881573\n",
      "step_1    0 days 00:00:37.395093891\n",
      "step_2    0 days 00:00:47.866016973\n",
      "step_3    0 days 00:01:35.848574959\n",
      "Name: time_spent, dtype: timedelta64[ns]\n"
     ]
    }
   ],
   "source": [
    "# Calculate the average time spent on each step for the Test group\n",
    "average_time_test= df_client_test_digital.groupby('process_step')['time_spent'].mean()\n",
    "\n",
    "# Print the results\n",
    "print(\"Average Time Spent on Each Step (Test Group):\")\n",
    "print(average_time_test)\n"
   ]
  },
  {
   "cell_type": "code",
   "execution_count": 56,
   "metadata": {},
   "outputs": [
    {
     "data": {
      "image/png": "[encoded data removed]",
      "text/plain": [
       "<Figure size 1000x600 with 1 Axes>"
      ]
     },
     "metadata": {},
     "output_type": "display_data"
    }
   ],
   "source": [
    "# Datos de tiempo invertido de los Test Clients\n",
    "test_time_spent = {\n",
    "    'process_step': ['confirm', 'start', 'step_1', 'step_2', 'step_3'],\n",
    "    'average_time_spent': [\n",
    "        pd.Timedelta('0 days 00:01:51.798615970'),\n",
    "        pd.Timedelta('0 days 00:01:01.011881573'),\n",
    "        pd.Timedelta('0 days 00:00:37.395093891'),\n",
    "        pd.Timedelta('0 days 00:00:47.866016973'),\n",
    "        pd.Timedelta('0 days 00:01:35.848574959')\n",
    "    ]\n",
    "}\n",
    "\n",
    "# Crear un DataFrame\n",
    "test_time_spent_df = pd.DataFrame(test_time_spent)\n",
    "\n",
    "# Convertir el tiempo a segundos\n",
    "test_time_spent_df['average_time_spent_seconds'] = test_time_spent_df['average_time_spent'].dt.total_seconds()\n",
    "\n",
    "# Crear el gráfico de barras\n",
    "plt.figure(figsize=(10, 6))\n",
    "plt.bar(test_time_spent_df['process_step'], test_time_spent_df['average_time_spent_seconds'], color='skyblue')\n",
    "plt.xlabel('Process Step')\n",
    "plt.ylabel('Average Time Spent (seconds)')\n",
    "plt.title('Average Time Spent on Each Step (Test Group)')\n",
    "plt.xticks(rotation=45)\n",
    "plt.show()\n"
   ]
  },
  {
   "cell_type": "markdown",
   "metadata": {},
   "source": [
    "### Time Spent on Each Step for Control Clients"
   ]
  },
  {
   "cell_type": "code",
   "execution_count": 57,
   "metadata": {},
   "outputs": [
    {
     "data": {
      "text/html": [
       "<div>\n",
       "<style scoped>\n",
       "    .dataframe tbody tr th:only-of-type {\n",
       "        vertical-align: middle;\n",
       "    }\n",
       "\n",
       "    .dataframe tbody tr th {\n",
       "        vertical-align: top;\n",
       "    }\n",
       "\n",
       "    .dataframe thead th {\n",
       "        text-align: right;\n",
       "    }\n",
       "</style>\n",
       "<table border=\"1\" class=\"dataframe\">\n",
       "  <thead>\n",
       "    <tr style=\"text-align: right;\">\n",
       "      <th></th>\n",
       "      <th>client_id</th>\n",
       "      <th>visitor_id</th>\n",
       "      <th>visit_id</th>\n",
       "      <th>process_step</th>\n",
       "      <th>date_time</th>\n",
       "      <th>time_spent</th>\n",
       "      <th>date_spent</th>\n",
       "      <th>time_spent_seconds</th>\n",
       "    </tr>\n",
       "  </thead>\n",
       "  <tbody>\n",
       "    <tr>\n",
       "      <th>77582</th>\n",
       "      <td>1028</td>\n",
       "      <td>42237450_62128060588</td>\n",
       "      <td>557292053_87239438319_391157</td>\n",
       "      <td>start</td>\n",
       "      <td>2017-04-08 18:51:28</td>\n",
       "      <td>0 days 00:00:00</td>\n",
       "      <td>0</td>\n",
       "      <td>0.0</td>\n",
       "    </tr>\n",
       "    <tr>\n",
       "      <th>77581</th>\n",
       "      <td>1028</td>\n",
       "      <td>42237450_62128060588</td>\n",
       "      <td>557292053_87239438319_391157</td>\n",
       "      <td>step_1</td>\n",
       "      <td>2017-04-08 18:52:17</td>\n",
       "      <td>0 days 00:00:49</td>\n",
       "      <td>0</td>\n",
       "      <td>49.0</td>\n",
       "    </tr>\n",
       "    <tr>\n",
       "      <th>77580</th>\n",
       "      <td>1028</td>\n",
       "      <td>42237450_62128060588</td>\n",
       "      <td>557292053_87239438319_391157</td>\n",
       "      <td>step_1</td>\n",
       "      <td>2017-04-08 18:53:20</td>\n",
       "      <td>0 days 00:01:03</td>\n",
       "      <td>0</td>\n",
       "      <td>63.0</td>\n",
       "    </tr>\n",
       "    <tr>\n",
       "      <th>77579</th>\n",
       "      <td>1028</td>\n",
       "      <td>42237450_62128060588</td>\n",
       "      <td>557292053_87239438319_391157</td>\n",
       "      <td>step_2</td>\n",
       "      <td>2017-04-08 18:53:29</td>\n",
       "      <td>0 days 00:00:09</td>\n",
       "      <td>0</td>\n",
       "      <td>9.0</td>\n",
       "    </tr>\n",
       "    <tr>\n",
       "      <th>77578</th>\n",
       "      <td>1028</td>\n",
       "      <td>42237450_62128060588</td>\n",
       "      <td>557292053_87239438319_391157</td>\n",
       "      <td>step_3</td>\n",
       "      <td>2017-04-08 18:58:04</td>\n",
       "      <td>0 days 00:04:35</td>\n",
       "      <td>0</td>\n",
       "      <td>275.0</td>\n",
       "    </tr>\n",
       "    <tr>\n",
       "      <th>...</th>\n",
       "      <td>...</td>\n",
       "      <td>...</td>\n",
       "      <td>...</td>\n",
       "      <td>...</td>\n",
       "      <td>...</td>\n",
       "      <td>...</td>\n",
       "      <td>...</td>\n",
       "      <td>...</td>\n",
       "    </tr>\n",
       "    <tr>\n",
       "      <th>69747</th>\n",
       "      <td>9998346</td>\n",
       "      <td>292425655_16607136645</td>\n",
       "      <td>189177304_69869411700_783154</td>\n",
       "      <td>step_3</td>\n",
       "      <td>2017-03-29 15:30:25</td>\n",
       "      <td>0 days 00:00:14</td>\n",
       "      <td>0</td>\n",
       "      <td>14.0</td>\n",
       "    </tr>\n",
       "    <tr>\n",
       "      <th>69744</th>\n",
       "      <td>9998346</td>\n",
       "      <td>292425655_16607136645</td>\n",
       "      <td>189177304_69869411700_783154</td>\n",
       "      <td>step_3</td>\n",
       "      <td>2017-03-29 15:37:28</td>\n",
       "      <td>0 days 00:07:03</td>\n",
       "      <td>0</td>\n",
       "      <td>423.0</td>\n",
       "    </tr>\n",
       "    <tr>\n",
       "      <th>69745</th>\n",
       "      <td>9998346</td>\n",
       "      <td>292425655_16607136645</td>\n",
       "      <td>189177304_69869411700_783154</td>\n",
       "      <td>confirm</td>\n",
       "      <td>2017-03-29 15:37:28</td>\n",
       "      <td>0 days 00:00:00</td>\n",
       "      <td>0</td>\n",
       "      <td>0.0</td>\n",
       "    </tr>\n",
       "    <tr>\n",
       "      <th>69746</th>\n",
       "      <td>9998346</td>\n",
       "      <td>292425655_16607136645</td>\n",
       "      <td>189177304_69869411700_783154</td>\n",
       "      <td>step_3</td>\n",
       "      <td>2017-03-29 15:37:28</td>\n",
       "      <td>0 days 00:00:00</td>\n",
       "      <td>0</td>\n",
       "      <td>0.0</td>\n",
       "    </tr>\n",
       "    <tr>\n",
       "      <th>69550</th>\n",
       "      <td>9998921</td>\n",
       "      <td>960034051_85687824805</td>\n",
       "      <td>378424178_59565976155_8051</td>\n",
       "      <td>start</td>\n",
       "      <td>2017-04-18 11:26:31</td>\n",
       "      <td>0 days 00:00:00</td>\n",
       "      <td>0</td>\n",
       "      <td>0.0</td>\n",
       "    </tr>\n",
       "  </tbody>\n",
       "</table>\n",
       "<p>143462 rows × 8 columns</p>\n",
       "</div>"
      ],
      "text/plain": [
       "       client_id             visitor_id                      visit_id  \\\n",
       "77582       1028   42237450_62128060588  557292053_87239438319_391157   \n",
       "77581       1028   42237450_62128060588  557292053_87239438319_391157   \n",
       "77580       1028   42237450_62128060588  557292053_87239438319_391157   \n",
       "77579       1028   42237450_62128060588  557292053_87239438319_391157   \n",
       "77578       1028   42237450_62128060588  557292053_87239438319_391157   \n",
       "...          ...                    ...                           ...   \n",
       "69747    9998346  292425655_16607136645  189177304_69869411700_783154   \n",
       "69744    9998346  292425655_16607136645  189177304_69869411700_783154   \n",
       "69745    9998346  292425655_16607136645  189177304_69869411700_783154   \n",
       "69746    9998346  292425655_16607136645  189177304_69869411700_783154   \n",
       "69550    9998921  960034051_85687824805    378424178_59565976155_8051   \n",
       "\n",
       "      process_step           date_time      time_spent  date_spent  \\\n",
       "77582        start 2017-04-08 18:51:28 0 days 00:00:00           0   \n",
       "77581       step_1 2017-04-08 18:52:17 0 days 00:00:49           0   \n",
       "77580       step_1 2017-04-08 18:53:20 0 days 00:01:03           0   \n",
       "77579       step_2 2017-04-08 18:53:29 0 days 00:00:09           0   \n",
       "77578       step_3 2017-04-08 18:58:04 0 days 00:04:35           0   \n",
       "...            ...                 ...             ...         ...   \n",
       "69747       step_3 2017-03-29 15:30:25 0 days 00:00:14           0   \n",
       "69744       step_3 2017-03-29 15:37:28 0 days 00:07:03           0   \n",
       "69745      confirm 2017-03-29 15:37:28 0 days 00:00:00           0   \n",
       "69746       step_3 2017-03-29 15:37:28 0 days 00:00:00           0   \n",
       "69550        start 2017-04-18 11:26:31 0 days 00:00:00           0   \n",
       "\n",
       "       time_spent_seconds  \n",
       "77582                 0.0  \n",
       "77581                49.0  \n",
       "77580                63.0  \n",
       "77579                 9.0  \n",
       "77578               275.0  \n",
       "...                   ...  \n",
       "69747                14.0  \n",
       "69744               423.0  \n",
       "69745                 0.0  \n",
       "69746                 0.0  \n",
       "69550                 0.0  \n",
       "\n",
       "[143462 rows x 8 columns]"
      ]
     },
     "execution_count": 57,
     "metadata": {},
     "output_type": "execute_result"
    }
   ],
   "source": [
    "# Convertir la columna 'date_time' a formato de fecha y hora\n",
    "df_client_control_digital['date_time'] = pd.to_datetime(df_client_control_digital['date_time'])\n",
    "\n",
    "# Ordenar correctamente el DataFrame\n",
    "df_client_control_digital.sort_values(by=['client_id', 'visit_id', 'date_time'], inplace=True)\n",
    "\n",
    "# Calcular el tiempo pasado entre process_step consecutivos\n",
    "df_client_control_digital['time_spent'] = df_client_control_digital.groupby(['client_id', 'visit_id'])['date_time'].diff()\n",
    "\n",
    "# Extraer días y tiempo separadamente\n",
    "df_client_control_digital['date_spent'] = df_client_control_digital['time_spent'].dt.days.fillna(0).astype(int)\n",
    "df_client_control_digital['time_spent'] = df_client_control_digital['time_spent'].apply(lambda x: pd.Timedelta(seconds=x.total_seconds() % 86400) if pd.notnull(x) else pd.Timedelta(seconds=0))\n",
    "\n",
    "# Ajustar días negativos a cero\n",
    "df_client_control_digital['date_spent'] = df_client_control_digital['date_spent'].apply(lambda x: max(x, 0))\n",
    "\n",
    "# Asignar la columna 'time_spent' definitivamente al DataFrame\n",
    "df_client_control_digital['time_spent'] = df_client_control_digital['time_spent']\n",
    "\n",
    "# Convertir la columna 'time_spent' a formato timedelta\n",
    "df_client_control_digital['time_spent'] = pd.to_timedelta(df_client_control_digital['time_spent'])\n",
    "\n",
    "# Convertir los intervalos de tiempo a segundos\n",
    "df_client_control_digital['time_spent_seconds'] = df_client_control_digital['time_spent'].apply(lambda x: x.total_seconds())\n",
    "df_client_control_digital\n",
    "\n",
    "df_client_control_digital\n"
   ]
  },
  {
   "cell_type": "code",
   "execution_count": 58,
   "metadata": {},
   "outputs": [
    {
     "name": "stdout",
     "output_type": "stream",
     "text": [
      "Average Time Spent on Each Step (Control Group):\n",
      "process_step\n",
      "confirm   0 days 00:02:03.049185946\n",
      "start     0 days 00:00:53.099563098\n",
      "step_1    0 days 00:00:42.585681542\n",
      "step_2    0 days 00:00:38.497566252\n",
      "step_3    0 days 00:01:32.238868172\n",
      "Name: time_spent, dtype: timedelta64[ns]\n"
     ]
    }
   ],
   "source": [
    "# Calculate the average time spent on each step for the Control group\n",
    "average_time_control= df_client_control_digital.groupby('process_step')['time_spent'].mean()\n",
    "\n",
    "# Print the results\n",
    "print(\"Average Time Spent on Each Step (Control Group):\")\n",
    "print(average_time_control)"
   ]
  },
  {
   "cell_type": "code",
   "execution_count": 59,
   "metadata": {},
   "outputs": [
    {
     "data": {
      "image/png": "[encoded data removed]",
      "text/plain": [
       "<Figure size 1000x600 with 1 Axes>"
      ]
     },
     "metadata": {},
     "output_type": "display_data"
    }
   ],
   "source": [
    "# Datos de tiempo invertido de los Control Clients\n",
    "control_time_spent = {\n",
    "    'process_step': ['confirm', 'start', 'step_1', 'step_2', 'step_3'],\n",
    "    'average_time_spent': [\n",
    "        pd.Timedelta('0 days 00:02:03.049185946'),\n",
    "        pd.Timedelta('0 days 00:00:53.099563098'),\n",
    "        pd.Timedelta('0 days 00:00:42.585681542'),\n",
    "        pd.Timedelta('0 days 00:00:38.497566252'),\n",
    "        pd.Timedelta('0 days 00:01:32.238868172')\n",
    "    ]\n",
    "}\n",
    "\n",
    "# Crear un DataFrame\n",
    "control_time_spent_df = pd.DataFrame(control_time_spent)\n",
    "\n",
    "# Convertir el tiempo a segundos\n",
    "control_time_spent_df['average_time_spent_seconds'] = control_time_spent_df['average_time_spent'].dt.total_seconds()\n",
    "\n",
    "# Crear el gráfico de barras\n",
    "plt.figure(figsize=(10, 6))\n",
    "plt.bar(control_time_spent_df['process_step'], control_time_spent_df['average_time_spent_seconds'], color='lightgreen')\n",
    "plt.xlabel('Process Step')\n",
    "plt.ylabel('Average Time Spent (seconds)')\n",
    "plt.title('Average Time Spent on Each Step (Control Group)')\n",
    "plt.xticks(rotation=45)\n",
    "plt.show()\n"
   ]
  },
  {
   "cell_type": "markdown",
   "metadata": {},
   "source": [
    "#### El grupo que más tiempo pasa en el paso 'confirm' son los del Control Group "
   ]
  },
  {
   "cell_type": "markdown",
   "metadata": {},
   "source": [
    "## Error Rates KPI"
   ]
  },
  {
   "cell_type": "markdown",
   "metadata": {},
   "source": [
    "### Calculate the error rate for Test Clients"
   ]
  },
  {
   "cell_type": "code",
   "execution_count": 60,
   "metadata": {},
   "outputs": [
    {
     "name": "stdout",
     "output_type": "stream",
     "text": [
      "Error Rate: 9.14%\n"
     ]
    }
   ],
   "source": [
    "# Definir el mapeo de pasos\n",
    "step_mapping = {'start': 0, 'step_1': 1, 'step_2': 2, 'step_3': 3, 'confirm': 4}\n",
    "\n",
    "# Función para calcular el error rate general\n",
    "def calculate_error_rate(df):\n",
    "    df = df.sort_values(by=['client_id', 'visitor_id', 'visit_id', 'date_time'])\n",
    "    df['step_numeric'] = df['process_step'].map(step_mapping)\n",
    "    df['previous_step_numeric'] = df.groupby(['client_id', 'visitor_id', 'visit_id'])['step_numeric'].shift(1)\n",
    "    df['backstep'] = df['step_numeric'] < df['previous_step_numeric']\n",
    "    \n",
    "    backsteps_count = df['backstep'].sum()\n",
    "    total_steps = len(df)\n",
    "    error_rate = backsteps_count / total_steps * 100 if total_steps > 0 else 0\n",
    "    \n",
    "    return error_rate\n",
    "\n",
    "# Calcular el error rate general\n",
    "error_rate_general = calculate_error_rate(df_client_test_digital)\n",
    "\n",
    "# Imprimir el resultado\n",
    "print(f\"Error Rate: {error_rate_general:.2f}%\")\n",
    "\n"
   ]
  },
  {
   "cell_type": "markdown",
   "metadata": {},
   "source": [
    "### Calculate the error rate for Control Clients"
   ]
  },
  {
   "cell_type": "code",
   "execution_count": 89,
   "metadata": {},
   "outputs": [
    {
     "name": "stdout",
     "output_type": "stream",
     "text": [
      "Error Rate: 6.70%\n"
     ]
    }
   ],
   "source": [
    "# Definir el mapeo de pasos\n",
    "step_mapping = {'start': 0, 'step_1': 1, 'step_2': 2, 'step_3': 3, 'confirm': 4}\n",
    "\n",
    "# Función para calcular el error rate general\n",
    "def calculate_error_rate(df):\n",
    "    df = df.sort_values(by=['client_id', 'visitor_id', 'visit_id', 'date_time'])\n",
    "    df['step_numeric'] = df['process_step'].map(step_mapping)\n",
    "    df['previous_step_numeric'] = df.groupby(['client_id', 'visitor_id', 'visit_id'])['step_numeric'].shift(1)\n",
    "    df['backstep'] = df['step_numeric'] < df['previous_step_numeric']\n",
    "    \n",
    "    backsteps_count = df['backstep'].sum()\n",
    "    total_steps = len(df)\n",
    "    error_rate = backsteps_count / total_steps * 100 if total_steps > 0 else 0\n",
    "    \n",
    "    return error_rate\n",
    "\n",
    "# Calcular el error rate general\n",
    "error_rate_general = calculate_error_rate(df_client_test_digital)\n",
    "\n",
    "# Imprimir el resultado\n",
    "print(f\"Error Rate: {error_rate_general:.2f}%\")"
   ]
  },
  {
   "cell_type": "markdown",
   "metadata": {},
   "source": [
    "# Hypothesis Testing"
   ]
  },
  {
   "cell_type": "markdown",
   "metadata": {},
   "source": [
    "### Completion Rate - Hypothesis Testing"
   ]
  },
  {
   "cell_type": "code",
   "execution_count": 135,
   "metadata": {},
   "outputs": [
    {
     "name": "stdout",
     "output_type": "stream",
     "text": [
      "Z Score: 18.67324116863663\n",
      "P-value: 8.173840595991908e-78\n",
      "Reject the null hypothesis. There is evidence to suggest that the completion rates for the Test and Control groups are different.\n"
     ]
    }
   ],
   "source": [
    "# Number of completions and total users in Test group\n",
    "test_completions = num_test_clients_confirm \n",
    "total_test_users = total_test_clients\n",
    "\n",
    "# Number of completions and total users in Control group\n",
    "control_completions = num_control_clients_confirm\n",
    "total_control_users = total_control_clients\n",
    "\n",
    "# Perform the two-proportion z-test\n",
    "z_score, p_value = sm.stats.proportions_ztest([test_completions, control_completions], [total_test_users, total_control_users], alternative='two-sided')\n",
    "\n",
    "# Interpret the results\n",
    "alpha = 0.05  # Significance level\n",
    "print(\"Z Score:\", z_score)\n",
    "print(\"P-value:\", p_value)\n",
    "\n",
    "if p_value < alpha:\n",
    "    print(\"Reject the null hypothesis. There is evidence to suggest that the completion rates for the Test and Control groups are different.\")\n",
    "else:\n",
    "    print(\"Fail to reject the null hypothesis. There is no significant evidence to suggest that the completion rates for the Test and Control groups are different.\")\n",
    "\n"
   ]
  },
  {
   "cell_type": "markdown",
   "metadata": {},
   "source": [
    "#### Completion Rate with a Cost-Effectiveness Threshold"
   ]
  },
  {
   "cell_type": "code",
   "execution_count": 136,
   "metadata": {},
   "outputs": [
    {
     "name": "stdout",
     "output_type": "stream",
     "text": [
      "Z Score: 18.67324116863663\n",
      "P-value: 4.086920297995954e-78\n",
      "Reject the null hypothesis. There is evidence to suggest that the completion rate for the Test group is greater than the completion rate for the Control group increased by 5%.\n"
     ]
    }
   ],
   "source": [
    "# Calculate the completion rate for the Control group increased by 5%\n",
    "control_completion_rate_with_threshold = completion_rate_control + 0.05\n",
    "\n",
    "# Perform the one-sided two-proportion z-test\n",
    "z_score, p_value = sm.stats.proportions_ztest([num_test_clients_confirm, num_control_clients_confirm], [total_test_clients, total_control_clients], alternative='larger')\n",
    "\n",
    "# Interpret the results\n",
    "alpha = 0.05  # Significance level\n",
    "print(\"Z Score:\", z_score)\n",
    "print(\"P-value:\", p_value)\n",
    "\n",
    "if p_value < alpha:\n",
    "    print(\"Reject the null hypothesis. There is evidence to suggest that the completion rate for the Test group is greater than the completion rate for the Control group increased by 5%.\")\n",
    "else:\n",
    "    print(\"Fail to reject the null hypothesis. There is no significant evidence to suggest that the completion rate for the Test group is greater than the completion rate for the Control group increased by 5%.\")\n"
   ]
  },
  {
   "cell_type": "markdown",
   "metadata": {},
   "source": [
    "#### Average age of clients engaging with the new process"
   ]
  },
  {
   "cell_type": "code",
   "execution_count": 86,
   "metadata": {},
   "outputs": [
    {
     "name": "stdout",
     "output_type": "stream",
     "text": [
      "T Statistic: -2.4161564504725126\n",
      "P-value: 0.015688843904893668\n",
      "Reject the null hypothesis. There is evidence to suggest that the average age of clients engaging with the new process is different from the average age of clients engaging with the old process.\n"
     ]
    }
   ],
   "source": [
    "# Extract age data for clients in the Test and Control groups\n",
    "age_test = df_client_test['clnt_age']\n",
    "age_control = df_client_control['clnt_age']\n",
    "\n",
    "# Perform two-sample t-test\n",
    "t_statistic, p_value = ttest_ind(age_test, age_control)\n",
    "\n",
    "# Interpret the results\n",
    "alpha = 0.05  # Significance level\n",
    "print(\"T Statistic:\", t_statistic)\n",
    "print(\"P-value:\", p_value)\n",
    "\n",
    "if p_value < alpha:\n",
    "    print(\"Reject the null hypothesis. There is evidence to suggest that the average age of clients engaging with the new process is different from the average age of clients engaging with the old process.\")\n",
    "else:\n",
    "    print(\"Fail to reject the null hypothesis. There is no significant evidence to suggest that the average age of clients engaging with the new process is different from the average age of clients engaging with the old process.\")\n"
   ]
  },
  {
   "cell_type": "markdown",
   "metadata": {},
   "source": [
    "#### Average client tenure of clients engaging with the new process"
   ]
  },
  {
   "cell_type": "code",
   "execution_count": 87,
   "metadata": {},
   "outputs": [
    {
     "name": "stdout",
     "output_type": "stream",
     "text": [
      "T Statistic: -1.7120651791114125\n",
      "P-value: 0.08689079727404246\n",
      "Fail to reject the null hypothesis. There is no significant evidence to suggest that the average client tenure of those engaging with the new process is different from the average client tenure of those engaging with the old process.\n"
     ]
    }
   ],
   "source": [
    "# Extract tenure data for clients in the Test and Control groups\n",
    "tenure_test = df_client_test['clnt_tenure_yr']  # Replace 'tenure_column' with the actual column name containing tenure information\n",
    "tenure_control = df_client_control['clnt_tenure_yr']  # Replace 'tenure_column' with the actual column name containing tenure information\n",
    "\n",
    "# Perform two-sample t-test\n",
    "t_statistic, p_value = ttest_ind(tenure_test, tenure_control)\n",
    "\n",
    "# Interpret the results\n",
    "alpha = 0.05  # Significance level\n",
    "print(\"T Statistic:\", t_statistic)\n",
    "print(\"P-value:\", p_value)\n",
    "\n",
    "if p_value < alpha:\n",
    "    print(\"Reject the null hypothesis. There is evidence to suggest that the average client tenure of those engaging with the new process is different from the average client tenure of those engaging with the old process.\")\n",
    "else:\n",
    "    print(\"Fail to reject the null hypothesis. There is no significant evidence to suggest that the average client tenure of those engaging with the new process is different from the average client tenure of those engaging with the old process.\")\n"
   ]
  },
  {
   "cell_type": "code",
   "execution_count": 67,
   "metadata": {},
   "outputs": [
    {
     "name": "stdout",
     "output_type": "stream",
     "text": [
      "T-statistic: -1.7120651791114125\n",
      "P-value: 0.08689079727404246\n"
     ]
    }
   ],
   "source": [
    "# Extraer las antigüedades de los clientes de ambos grupos\n",
    "test_tenure = df_client_test['clnt_tenure_yr']\n",
    "control_tenure = df_client_control['clnt_tenure_yr']\n",
    "\n",
    "# Realizar la prueba t\n",
    "t_stat, p_value = ttest_ind(test_tenure, control_tenure)\n",
    "\n",
    "print(f\"T-statistic: {t_stat}\")\n",
    "print(f\"P-value: {p_value}\")"
   ]
  },
  {
   "cell_type": "markdown",
   "metadata": {},
   "source": [
    "#### Gender differences between clients from both groups"
   ]
  },
  {
   "cell_type": "code",
   "execution_count": 140,
   "metadata": {},
   "outputs": [
    {
     "name": "stdout",
     "output_type": "stream",
     "text": [
      "Chi-square Statistic: 4.07922595043329\n",
      "P-value: 0.395389952839044\n",
      "Fail to reject the null hypothesis. There is no significant evidence to suggest that the gender proportion of clients engaging in the new process is different from the gender proportion of clients engaging in the old process.\n"
     ]
    }
   ],
   "source": [
    "# Create a contingency table for gender frequencies in the test and control groups\n",
    "contingency_table = pd.crosstab(df_client_test['gender'], df_client_control['gender'])\n",
    "\n",
    "# Perform the chi-square test of independence\n",
    "chi2_stat, p_value, dof, expected = chi2_contingency(contingency_table)\n",
    "\n",
    "# Interpret the results\n",
    "alpha = 0.05\n",
    "print(\"Chi-square Statistic:\", chi2_stat)\n",
    "print(\"P-value:\", p_value)\n",
    "\n",
    "if p_value < alpha:\n",
    "    print(\"Reject the null hypothesis. There is evidence to suggest that the gender proportion of clients engaging in the new process is different from the gender proportion of clients engaging in the old process.\")\n",
    "else:\n",
    "    print(\"Fail to reject the null hypothesis. There is no significant evidence to suggest that the gender proportion of clients engaging in the new process is different from the gender proportion of clients engaging in the old process.\")\n"
   ]
  },
  {
   "cell_type": "markdown",
   "metadata": {},
   "source": [
    "#### Difference between number of steps taken by different groups"
   ]
  },
  {
   "cell_type": "code",
   "execution_count": 90,
   "metadata": {},
   "outputs": [
    {
     "name": "stdout",
     "output_type": "stream",
     "text": [
      "Results of the t-test:\n",
      "t-statistic: 14.760403173128815\n",
      "p-value: 3.138395777926494e-49\n",
      "There is a significant difference in the number of actions between Test and Control groups.\n"
     ]
    }
   ],
   "source": [
    "# Extract the number of actions for Test and Control groups\n",
    "test_actions = df_client_test_digital.groupby(['client_id', 'visitor_id', 'visit_id']).size()\n",
    "control_actions = df_client_control_digital.groupby(['client_id', 'visitor_id', 'visit_id']).size()\n",
    "\n",
    "# Perform t-test\n",
    "t_statistic, p_value = ttest_ind(test_actions, control_actions, equal_var=False)\n",
    "\n",
    "# Print the results\n",
    "print(\"Results of the t-test:\")\n",
    "print(\"t-statistic:\", t_statistic)\n",
    "print(\"p-value:\", p_value)\n",
    "\n",
    "# Check if the difference is statistically significant (usually if p-value < 0.05)\n",
    "if p_value < 0.05:\n",
    "    print(\"There is a significant difference in the number of actions between Test and Control groups.\")\n",
    "else:\n",
    "    print(\"There is no significant difference in the number of actions between Test and Control groups.\")"
   ]
  },
  {
   "cell_type": "markdown",
   "metadata": {},
   "source": [
    "### Export dataframes to CSV"
   ]
  },
  {
   "cell_type": "code",
   "execution_count": 51,
   "metadata": {},
   "outputs": [],
   "source": [
    "# client_profiles_df\n",
    "client_profiles_df.to_csv('/Users/natalialabrador/Desktop/Ironhack/Proyectos/5. EDA + Tableau/csvs/client_profiles_df.csv',encoding='latin-1',sep=';')"
   ]
  },
  {
   "cell_type": "code",
   "execution_count": 60,
   "metadata": {},
   "outputs": [],
   "source": [
    "# df_client_test_digital\n",
    "df_client_test_digital.to_csv('/Users/natalialabrador/Desktop/Ironhack/Proyectos/5. EDA + Tableau/csvs/df_client_test_digital.csv',encoding='latin-1',sep=';')"
   ]
  },
  {
   "cell_type": "code",
   "execution_count": 62,
   "metadata": {},
   "outputs": [],
   "source": [
    "# df_client_control_digital\n",
    "df_client_control_digital.to_csv('/Users/natalialabrador/Desktop/Ironhack/Proyectos/5. EDA + Tableau/csvs/df_client_control_digital.csv',encoding='latin-1',sep=';')"
   ]
  },
  {
   "cell_type": "code",
   "execution_count": 70,
   "metadata": {},
   "outputs": [],
   "source": [
    "# df_client_test\n",
    "df_client_test.to_csv('/Users/natalialabrador/Desktop/Ironhack/Proyectos/5. EDA + Tableau/csvs/df_client_test.csv',encoding='latin-1',sep=';')"
   ]
  },
  {
   "cell_type": "code",
   "execution_count": 71,
   "metadata": {},
   "outputs": [],
   "source": [
    "# df_client_control \n",
    "df_client_control .to_csv('/Users/natalialabrador/Desktop/Ironhack/Proyectos/5. EDA + Tableau/csvs/df_client_control .csv',encoding='latin-1',sep=';')"
   ]
  },
  {
   "cell_type": "code",
   "execution_count": 58,
   "metadata": {},
   "outputs": [],
   "source": [
    "# grouped_clients_gender_df\n",
    "grouped_clients_gender_df.to_csv('/Users/natalialabrador/Desktop/Ironhack/Proyectos/5. EDA + Tableau/csvs/grouped_clients_gender_df.csv',encoding='latin-1',sep=';')"
   ]
  },
  {
   "cell_type": "code",
   "execution_count": 63,
   "metadata": {},
   "outputs": [
    {
     "data": {
      "text/html": [
       "<div>\n",
       "<style scoped>\n",
       "    .dataframe tbody tr th:only-of-type {\n",
       "        vertical-align: middle;\n",
       "    }\n",
       "\n",
       "    .dataframe tbody tr th {\n",
       "        vertical-align: top;\n",
       "    }\n",
       "\n",
       "    .dataframe thead th {\n",
       "        text-align: right;\n",
       "    }\n",
       "</style>\n",
       "<table border=\"1\" class=\"dataframe\">\n",
       "  <thead>\n",
       "    <tr style=\"text-align: right;\">\n",
       "      <th></th>\n",
       "      <th>client_id</th>\n",
       "      <th>process_step</th>\n",
       "    </tr>\n",
       "  </thead>\n",
       "  <tbody>\n",
       "    <tr>\n",
       "      <th>77582</th>\n",
       "      <td>1028</td>\n",
       "      <td>start</td>\n",
       "    </tr>\n",
       "    <tr>\n",
       "      <th>77581</th>\n",
       "      <td>1028</td>\n",
       "      <td>step_1</td>\n",
       "    </tr>\n",
       "    <tr>\n",
       "      <th>77580</th>\n",
       "      <td>1028</td>\n",
       "      <td>step_1</td>\n",
       "    </tr>\n",
       "    <tr>\n",
       "      <th>77579</th>\n",
       "      <td>1028</td>\n",
       "      <td>step_2</td>\n",
       "    </tr>\n",
       "    <tr>\n",
       "      <th>77578</th>\n",
       "      <td>1028</td>\n",
       "      <td>step_3</td>\n",
       "    </tr>\n",
       "    <tr>\n",
       "      <th>...</th>\n",
       "      <td>...</td>\n",
       "      <td>...</td>\n",
       "    </tr>\n",
       "    <tr>\n",
       "      <th>69747</th>\n",
       "      <td>9998346</td>\n",
       "      <td>step_3</td>\n",
       "    </tr>\n",
       "    <tr>\n",
       "      <th>69744</th>\n",
       "      <td>9998346</td>\n",
       "      <td>step_3</td>\n",
       "    </tr>\n",
       "    <tr>\n",
       "      <th>69745</th>\n",
       "      <td>9998346</td>\n",
       "      <td>confirm</td>\n",
       "    </tr>\n",
       "    <tr>\n",
       "      <th>69746</th>\n",
       "      <td>9998346</td>\n",
       "      <td>step_3</td>\n",
       "    </tr>\n",
       "    <tr>\n",
       "      <th>69550</th>\n",
       "      <td>9998921</td>\n",
       "      <td>start</td>\n",
       "    </tr>\n",
       "  </tbody>\n",
       "</table>\n",
       "<p>143462 rows × 2 columns</p>\n",
       "</div>"
      ],
      "text/plain": [
       "       client_id process_step\n",
       "77582       1028        start\n",
       "77581       1028       step_1\n",
       "77580       1028       step_1\n",
       "77579       1028       step_2\n",
       "77578       1028       step_3\n",
       "...          ...          ...\n",
       "69747    9998346       step_3\n",
       "69744    9998346       step_3\n",
       "69745    9998346      confirm\n",
       "69746    9998346       step_3\n",
       "69550    9998921        start\n",
       "\n",
       "[143462 rows x 2 columns]"
      ]
     },
     "execution_count": 63,
     "metadata": {},
     "output_type": "execute_result"
    }
   ],
   "source": [
    "# Create a separate table to calculate Completion Rate for Control Group\n",
    "completion_rate_control = df_client_control_digital[['client_id', 'process_step']]\n",
    "completion_rate_control"
   ]
  },
  {
   "cell_type": "code",
   "execution_count": 64,
   "metadata": {},
   "outputs": [],
   "source": [
    "# completion_rate_control\n",
    "completion_rate_control.to_csv('/Users/natalialabrador/Desktop/Ironhack/Proyectos/5. EDA + Tableau/csvs/completion_rate_control.csv',encoding='latin-1',sep=';')"
   ]
  },
  {
   "cell_type": "code",
   "execution_count": 65,
   "metadata": {},
   "outputs": [
    {
     "data": {
      "text/html": [
       "<div>\n",
       "<style scoped>\n",
       "    .dataframe tbody tr th:only-of-type {\n",
       "        vertical-align: middle;\n",
       "    }\n",
       "\n",
       "    .dataframe tbody tr th {\n",
       "        vertical-align: top;\n",
       "    }\n",
       "\n",
       "    .dataframe thead th {\n",
       "        text-align: right;\n",
       "    }\n",
       "</style>\n",
       "<table border=\"1\" class=\"dataframe\">\n",
       "  <thead>\n",
       "    <tr style=\"text-align: right;\">\n",
       "      <th></th>\n",
       "      <th>client_id</th>\n",
       "      <th>process_step</th>\n",
       "    </tr>\n",
       "  </thead>\n",
       "  <tbody>\n",
       "    <tr>\n",
       "      <th>52161</th>\n",
       "      <td>555</td>\n",
       "      <td>start</td>\n",
       "    </tr>\n",
       "    <tr>\n",
       "      <th>52160</th>\n",
       "      <td>555</td>\n",
       "      <td>step_1</td>\n",
       "    </tr>\n",
       "    <tr>\n",
       "      <th>52159</th>\n",
       "      <td>555</td>\n",
       "      <td>step_2</td>\n",
       "    </tr>\n",
       "    <tr>\n",
       "      <th>52158</th>\n",
       "      <td>555</td>\n",
       "      <td>step_3</td>\n",
       "    </tr>\n",
       "    <tr>\n",
       "      <th>52157</th>\n",
       "      <td>555</td>\n",
       "      <td>confirm</td>\n",
       "    </tr>\n",
       "    <tr>\n",
       "      <th>...</th>\n",
       "      <td>...</td>\n",
       "      <td>...</td>\n",
       "    </tr>\n",
       "    <tr>\n",
       "      <th>77449</th>\n",
       "      <td>9999729</td>\n",
       "      <td>confirm</td>\n",
       "    </tr>\n",
       "    <tr>\n",
       "      <th>77444</th>\n",
       "      <td>9999729</td>\n",
       "      <td>start</td>\n",
       "    </tr>\n",
       "    <tr>\n",
       "      <th>77443</th>\n",
       "      <td>9999729</td>\n",
       "      <td>step_1</td>\n",
       "    </tr>\n",
       "    <tr>\n",
       "      <th>8318</th>\n",
       "      <td>9999832</td>\n",
       "      <td>start</td>\n",
       "    </tr>\n",
       "    <tr>\n",
       "      <th>8317</th>\n",
       "      <td>9999832</td>\n",
       "      <td>step_1</td>\n",
       "    </tr>\n",
       "  </tbody>\n",
       "</table>\n",
       "<p>177847 rows × 2 columns</p>\n",
       "</div>"
      ],
      "text/plain": [
       "       client_id process_step\n",
       "52161        555        start\n",
       "52160        555       step_1\n",
       "52159        555       step_2\n",
       "52158        555       step_3\n",
       "52157        555      confirm\n",
       "...          ...          ...\n",
       "77449    9999729      confirm\n",
       "77444    9999729        start\n",
       "77443    9999729       step_1\n",
       "8318     9999832        start\n",
       "8317     9999832       step_1\n",
       "\n",
       "[177847 rows x 2 columns]"
      ]
     },
     "execution_count": 65,
     "metadata": {},
     "output_type": "execute_result"
    }
   ],
   "source": [
    "# Create a separate table to calculate Completion Rate for Test Group\n",
    "completion_rate_test = df_client_test_digital[['client_id', 'process_step']]\n",
    "completion_rate_test"
   ]
  },
  {
   "cell_type": "code",
   "execution_count": 66,
   "metadata": {},
   "outputs": [],
   "source": [
    "# completion_rate_test\n",
    "completion_rate_test.to_csv('/Users/natalialabrador/Desktop/Ironhack/Proyectos/5. EDA + Tableau/csvs/completion_rate_test.csv',encoding='latin-1',sep=';')"
   ]
  },
  {
   "cell_type": "code",
   "execution_count": null,
   "metadata": {},
   "outputs": [],
   "source": []
  }
 ],
 "metadata": {
  "kernelspec": {
   "display_name": "base",
   "language": "python",
   "name": "python3"
  },
  "language_info": {
   "codemirror_mode": {
    "name": "ipython",
    "version": 3
   },
   "file_extension": ".py",
   "mimetype": "text/x-python",
   "name": "python",
   "nbconvert_exporter": "python",
   "pygments_lexer": "ipython3",
   "version": "3.11.5"
  }
 },
 "nbformat": 4,
 "nbformat_minor": 2
}
